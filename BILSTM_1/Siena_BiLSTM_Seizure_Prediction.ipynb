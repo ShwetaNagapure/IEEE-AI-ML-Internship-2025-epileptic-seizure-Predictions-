{
  "cells": [
    {
      "cell_type": "code",
      "execution_count": null,
      "metadata": {
        "colab": {
          "base_uri": "https://localhost:8080/"
        },
        "id": "2mOJa8RYIv72",
        "outputId": "58d0ef08-cce8-4f30-f996-d7c8732d9a68"
      },
      "outputs": [
        {
          "name": "stdout",
          "output_type": "stream",
          "text": [
            "Requirement already satisfied: mne in /usr/local/lib/python3.11/dist-packages (1.9.0)\n",
            "Requirement already satisfied: numpy in /usr/local/lib/python3.11/dist-packages (2.0.2)\n",
            "Requirement already satisfied: pandas in /usr/local/lib/python3.11/dist-packages (2.2.2)\n",
            "Requirement already satisfied: scikit-learn in /usr/local/lib/python3.11/dist-packages (1.6.1)\n",
            "Requirement already satisfied: tensorflow in /usr/local/lib/python3.11/dist-packages (2.18.0)\n",
            "Requirement already satisfied: decorator in /usr/local/lib/python3.11/dist-packages (from mne) (4.4.2)\n",
            "Requirement already satisfied: jinja2 in /usr/local/lib/python3.11/dist-packages (from mne) (3.1.6)\n",
            "Requirement already satisfied: lazy-loader>=0.3 in /usr/local/lib/python3.11/dist-packages (from mne) (0.4)\n",
            "Requirement already satisfied: matplotlib>=3.6 in /usr/local/lib/python3.11/dist-packages (from mne) (3.10.0)\n",
            "Requirement already satisfied: packaging in /usr/local/lib/python3.11/dist-packages (from mne) (24.2)\n",
            "Requirement already satisfied: pooch>=1.5 in /usr/local/lib/python3.11/dist-packages (from mne) (1.8.2)\n",
            "Requirement already satisfied: scipy>=1.9 in /usr/local/lib/python3.11/dist-packages (from mne) (1.15.3)\n",
            "Requirement already satisfied: tqdm in /usr/local/lib/python3.11/dist-packages (from mne) (4.67.1)\n",
            "Requirement already satisfied: python-dateutil>=2.8.2 in /usr/local/lib/python3.11/dist-packages (from pandas) (2.9.0.post0)\n",
            "Requirement already satisfied: pytz>=2020.1 in /usr/local/lib/python3.11/dist-packages (from pandas) (2025.2)\n",
            "Requirement already satisfied: tzdata>=2022.7 in /usr/local/lib/python3.11/dist-packages (from pandas) (2025.2)\n",
            "Requirement already satisfied: joblib>=1.2.0 in /usr/local/lib/python3.11/dist-packages (from scikit-learn) (1.5.1)\n",
            "Requirement already satisfied: threadpoolctl>=3.1.0 in /usr/local/lib/python3.11/dist-packages (from scikit-learn) (3.6.0)\n",
            "Requirement already satisfied: absl-py>=1.0.0 in /usr/local/lib/python3.11/dist-packages (from tensorflow) (1.4.0)\n",
            "Requirement already satisfied: astunparse>=1.6.0 in /usr/local/lib/python3.11/dist-packages (from tensorflow) (1.6.3)\n",
            "Requirement already satisfied: flatbuffers>=24.3.25 in /usr/local/lib/python3.11/dist-packages (from tensorflow) (25.2.10)\n",
            "Requirement already satisfied: gast!=0.5.0,!=0.5.1,!=0.5.2,>=0.2.1 in /usr/local/lib/python3.11/dist-packages (from tensorflow) (0.6.0)\n",
            "Requirement already satisfied: google-pasta>=0.1.1 in /usr/local/lib/python3.11/dist-packages (from tensorflow) (0.2.0)\n",
            "Requirement already satisfied: libclang>=13.0.0 in /usr/local/lib/python3.11/dist-packages (from tensorflow) (18.1.1)\n",
            "Requirement already satisfied: opt-einsum>=2.3.2 in /usr/local/lib/python3.11/dist-packages (from tensorflow) (3.4.0)\n",
            "Requirement already satisfied: protobuf!=4.21.0,!=4.21.1,!=4.21.2,!=4.21.3,!=4.21.4,!=4.21.5,<6.0.0dev,>=3.20.3 in /usr/local/lib/python3.11/dist-packages (from tensorflow) (5.29.5)\n",
            "Requirement already satisfied: requests<3,>=2.21.0 in /usr/local/lib/python3.11/dist-packages (from tensorflow) (2.32.3)\n",
            "Requirement already satisfied: setuptools in /usr/local/lib/python3.11/dist-packages (from tensorflow) (75.2.0)\n",
            "Requirement already satisfied: six>=1.12.0 in /usr/local/lib/python3.11/dist-packages (from tensorflow) (1.17.0)\n",
            "Requirement already satisfied: termcolor>=1.1.0 in /usr/local/lib/python3.11/dist-packages (from tensorflow) (3.1.0)\n",
            "Requirement already satisfied: typing-extensions>=3.6.6 in /usr/local/lib/python3.11/dist-packages (from tensorflow) (4.14.0)\n",
            "Requirement already satisfied: wrapt>=1.11.0 in /usr/local/lib/python3.11/dist-packages (from tensorflow) (1.17.2)\n",
            "Requirement already satisfied: grpcio<2.0,>=1.24.3 in /usr/local/lib/python3.11/dist-packages (from tensorflow) (1.73.1)\n",
            "Requirement already satisfied: tensorboard<2.19,>=2.18 in /usr/local/lib/python3.11/dist-packages (from tensorflow) (2.18.0)\n",
            "Requirement already satisfied: keras>=3.5.0 in /usr/local/lib/python3.11/dist-packages (from tensorflow) (3.8.0)\n",
            "Requirement already satisfied: h5py>=3.11.0 in /usr/local/lib/python3.11/dist-packages (from tensorflow) (3.14.0)\n",
            "Requirement already satisfied: ml-dtypes<0.5.0,>=0.4.0 in /usr/local/lib/python3.11/dist-packages (from tensorflow) (0.4.1)\n",
            "Requirement already satisfied: tensorflow-io-gcs-filesystem>=0.23.1 in /usr/local/lib/python3.11/dist-packages (from tensorflow) (0.37.1)\n",
            "Requirement already satisfied: wheel<1.0,>=0.23.0 in /usr/local/lib/python3.11/dist-packages (from astunparse>=1.6.0->tensorflow) (0.45.1)\n",
            "Requirement already satisfied: rich in /usr/local/lib/python3.11/dist-packages (from keras>=3.5.0->tensorflow) (13.9.4)\n",
            "Requirement already satisfied: namex in /usr/local/lib/python3.11/dist-packages (from keras>=3.5.0->tensorflow) (0.1.0)\n",
            "Requirement already satisfied: optree in /usr/local/lib/python3.11/dist-packages (from keras>=3.5.0->tensorflow) (0.16.0)\n",
            "Requirement already satisfied: contourpy>=1.0.1 in /usr/local/lib/python3.11/dist-packages (from matplotlib>=3.6->mne) (1.3.2)\n",
            "Requirement already satisfied: cycler>=0.10 in /usr/local/lib/python3.11/dist-packages (from matplotlib>=3.6->mne) (0.12.1)\n",
            "Requirement already satisfied: fonttools>=4.22.0 in /usr/local/lib/python3.11/dist-packages (from matplotlib>=3.6->mne) (4.58.4)\n",
            "Requirement already satisfied: kiwisolver>=1.3.1 in /usr/local/lib/python3.11/dist-packages (from matplotlib>=3.6->mne) (1.4.8)\n",
            "Requirement already satisfied: pillow>=8 in /usr/local/lib/python3.11/dist-packages (from matplotlib>=3.6->mne) (11.2.1)\n",
            "Requirement already satisfied: pyparsing>=2.3.1 in /usr/local/lib/python3.11/dist-packages (from matplotlib>=3.6->mne) (3.2.3)\n",
            "Requirement already satisfied: platformdirs>=2.5.0 in /usr/local/lib/python3.11/dist-packages (from pooch>=1.5->mne) (4.3.8)\n",
            "Requirement already satisfied: charset-normalizer<4,>=2 in /usr/local/lib/python3.11/dist-packages (from requests<3,>=2.21.0->tensorflow) (3.4.2)\n",
            "Requirement already satisfied: idna<4,>=2.5 in /usr/local/lib/python3.11/dist-packages (from requests<3,>=2.21.0->tensorflow) (3.10)\n",
            "Requirement already satisfied: urllib3<3,>=1.21.1 in /usr/local/lib/python3.11/dist-packages (from requests<3,>=2.21.0->tensorflow) (2.4.0)\n",
            "Requirement already satisfied: certifi>=2017.4.17 in /usr/local/lib/python3.11/dist-packages (from requests<3,>=2.21.0->tensorflow) (2025.6.15)\n",
            "Requirement already satisfied: markdown>=2.6.8 in /usr/local/lib/python3.11/dist-packages (from tensorboard<2.19,>=2.18->tensorflow) (3.8.2)\n",
            "Requirement already satisfied: tensorboard-data-server<0.8.0,>=0.7.0 in /usr/local/lib/python3.11/dist-packages (from tensorboard<2.19,>=2.18->tensorflow) (0.7.2)\n",
            "Requirement already satisfied: werkzeug>=1.0.1 in /usr/local/lib/python3.11/dist-packages (from tensorboard<2.19,>=2.18->tensorflow) (3.1.3)\n",
            "Requirement already satisfied: MarkupSafe>=2.0 in /usr/local/lib/python3.11/dist-packages (from jinja2->mne) (3.0.2)\n",
            "Requirement already satisfied: markdown-it-py>=2.2.0 in /usr/local/lib/python3.11/dist-packages (from rich->keras>=3.5.0->tensorflow) (3.0.0)\n",
            "Requirement already satisfied: pygments<3.0.0,>=2.13.0 in /usr/local/lib/python3.11/dist-packages (from rich->keras>=3.5.0->tensorflow) (2.19.2)\n",
            "Requirement already satisfied: mdurl~=0.1 in /usr/local/lib/python3.11/dist-packages (from markdown-it-py>=2.2.0->rich->keras>=3.5.0->tensorflow) (0.1.2)\n",
            "Libraries installation initiated. Please wait for it to complete.\n",
            "You might see warnings about specific versions or dependencies; this is usually fine.\n"
          ]
        }
      ],
      "source": [
        "# Cell 1: Install MNE-Python and other necessary libraries\n",
        "# This will install mne, numpy, pandas, scikit-learn, and tensorflow\n",
        "!pip install mne numpy pandas scikit-learn tensorflow\n",
        "\n",
        "print(\"Libraries installation initiated. Please wait for it to complete.\")\n",
        "print(\"You might see warnings about specific versions or dependencies; this is usually fine.\")"
      ]
    },
    {
      "cell_type": "code",
      "execution_count": null,
      "metadata": {
        "colab": {
          "base_uri": "https://localhost:8080/"
        },
        "id": "JAD5quWsKGuY",
        "outputId": "1b5e3dd1-7a36-4748-edd4-7479253ccf91"
      },
      "outputs": [
        {
          "name": "stdout",
          "output_type": "stream",
          "text": [
            "Drive already mounted at /content/drive; to attempt to forcibly remount, call drive.mount(\"/content/drive\", force_remount=True).\n",
            "Google Drive mounted successfully!\n"
          ]
        }
      ],
      "source": [
        "# Cell 0: Mount Google Drive\n",
        "from google.colab import drive\n",
        "drive.mount('/content/drive')\n",
        "print(\"Google Drive mounted successfully!\")"
      ]
    },
    {
      "cell_type": "code",
      "execution_count": null,
      "metadata": {
        "colab": {
          "base_uri": "https://localhost:8080/"
        },
        "id": "9o4IGTHkKlMr",
        "outputId": "031ef012-9468-4910-fe75-260c2882e0cf"
      },
      "outputs": [
        {
          "name": "stdout",
          "output_type": "stream",
          "text": [
            "Global variables and EEG_FILES dictionary defined!\n"
          ]
        }
      ],
      "source": [
        "# Cell 2: Define Global Variables and EEG_FILES Dictionary (FINAL CHANNEL CORRECTION)\n",
        "\n",
        "# ====================== DATASET PARAMETERS ======================\n",
        "SFREQ = 512         # Target sampling frequency in Hz, as stated in annotation\n",
        "N_EEG_CHANNELS = 34 # **CRITICAL UPDATE:** Number of expected EEG channels after dropping EKG\n",
        "\n",
        "# ====================== SEGMENTATION PARAMETERS ======================\n",
        "PREICTAL_DURATION_MIN = 30 # Duration of preictal segment in minutes (e.g., 30 mins before seizure onset)\n",
        "INTERICTAL_DURATION_MIN = 60 # Duration of interictal segment in minutes (e.g., 60 mins before preictal starts)\n",
        "SEGMENT_LENGTH_SEC = 5 # Length of each EEG segment in seconds\n",
        "\n",
        "# ====================== PREPROCESSING PARAMETERS ======================\n",
        "HIGH_PASS_FREQ = 0.5 # High-pass filter frequency in Hz (e.g., to remove drift)\n",
        "LOW_PASS_FREQ = 30   # Low-pass filter frequency in Hz (e.g., to remove high-frequency noise/muscle artifacts)\n",
        "\n",
        "# ====================== EXPECTED EEG CHANNELS (CRITICAL: BASED ON YOUR LATEST INSPECTION) ======================\n",
        "# This list specifies the 34 channels we want to extract, IN THEIR EXACT NAMES from your EDF files,\n",
        "# after 'EKG EKG' has been dropped.\n",
        "EXPECTED_EEG_CHANNELS = [\n",
        "    'EEG Fp1', 'EEG F3', 'EEG C3', 'EEG P3', 'EEG O1', 'EEG F7', 'EEG T3', 'EEG T5',\n",
        "    'EEG Fc1', 'EEG Fc5', 'EEG Cp1', 'EEG Cp5', 'EEG F9', 'EEG Fz', 'EEG Cz', 'EEG Pz',\n",
        "    'EEG Fp2', 'EEG F4', 'EEG C4', 'EEG P4', 'EEG O2', 'EEG F8', 'EEG T4', 'EEG T6',\n",
        "    'EEG Fc2', 'EEG Fc6', 'EEG Cp2', 'EEG Cp6', 'EEG F10',\n",
        "    'SPO2', 'HR', '1', '2', 'MK'\n",
        "]\n",
        "\n",
        "# ====================== EEG_FILES DICTIONARY (CRITICAL!) ======================\n",
        "# This dictionary maps patient IDs to lists of their EDF filenames.\n",
        "# You MUST populate this accurately for all your patients.\n",
        "EEG_FILES = {\n",
        "    'PN00': ['PN00-1.edf', 'PN00-2.edf', 'PN00-3.edf', 'PN00-4.edf', 'PN00-5.edf'],\n",
        "    # ADD OTHER PATIENTS AND THEIR EDF FILES HERE IF YOU HAVE THEM:\n",
        "    # 'PN01': ['PN01-1.edf', 'PN01-2.edf', 'PN01-3.edf'],\n",
        "    # 'PN02': ['PN02-1.edf', 'PN02-2.edf'],\n",
        "    # ... and so on for all your patients (e.g., 'PN05': ['PN05-1.edf'])\n",
        "}\n",
        "\n",
        "print(\"Global variables and EEG_FILES dictionary defined!\")"
      ]
    },
    {
      "cell_type": "code",
      "execution_count": null,
      "metadata": {
        "colab": {
          "base_uri": "https://localhost:8080/"
        },
        "id": "sYN9ySVYgcYV",
        "outputId": "0ba9998a-683e-4722-82fd-d46ac0322174"
      },
      "outputs": [
        {
          "name": "stdout",
          "output_type": "stream",
          "text": [
            "Actual channel names in PN00-1.edf (before dropping EKG):\n",
            "['EEG Fp1', 'EEG F3', 'EEG C3', 'EEG P3', 'EEG O1', 'EEG F7', 'EEG T3', 'EEG T5', 'EEG Fc1', 'EEG Fc5', 'EEG Cp1', 'EEG Cp5', 'EEG F9', 'EEG Fz', 'EEG Cz', 'EEG Pz', 'EEG Fp2', 'EEG F4', 'EEG C4', 'EEG P4', 'EEG O2', 'EEG F8', 'EEG T4', 'EEG T6', 'EEG Fc2', 'EEG Fc6', 'EEG Cp2', 'EEG Cp6', 'EEG F10', 'EKG EKG', 'SPO2', 'HR', '1', '2', 'MK']\n",
            "\n",
            "Actual channel names AFTER EKG drop:\n",
            "['EEG Fp1', 'EEG F3', 'EEG C3', 'EEG P3', 'EEG O1', 'EEG F7', 'EEG T3', 'EEG T5', 'EEG Fc1', 'EEG Fc5', 'EEG Cp1', 'EEG Cp5', 'EEG F9', 'EEG Fz', 'EEG Cz', 'EEG Pz', 'EEG Fp2', 'EEG F4', 'EEG C4', 'EEG P4', 'EEG O2', 'EEG F8', 'EEG T4', 'EEG T6', 'EEG Fc2', 'EEG Fc6', 'EEG Cp2', 'EEG Cp6', 'EEG F10', 'SPO2', 'HR', '1', '2', 'MK']\n",
            "Count: 34\n"
          ]
        },
        {
          "name": "stderr",
          "output_type": "stream",
          "text": [
            "/tmp/ipython-input-4-4019954270.py:8: RuntimeWarning: Channels contain different highpass filters. Highest filter setting will be stored.\n",
            "  raw_test = mne.io.read_raw_edf(sample_edf_path, preload=False, verbose='WARNING')\n",
            "/tmp/ipython-input-4-4019954270.py:8: RuntimeWarning: Channels contain different lowpass filters. Lowest filter setting will be stored.\n",
            "  raw_test = mne.io.read_raw_edf(sample_edf_path, preload=False, verbose='WARNING')\n",
            "/tmp/ipython-input-4-4019954270.py:8: RuntimeWarning: Highpass cutoff frequency 15.91549 is greater than lowpass cutoff frequency 15.0, setting values to 0 and Nyquist.\n",
            "  raw_test = mne.io.read_raw_edf(sample_edf_path, preload=False, verbose='WARNING')\n"
          ]
        }
      ],
      "source": [
        "import mne\n",
        "import os\n",
        "\n",
        "# Define the path to one of your EDF files\n",
        "sample_edf_path = '/content/drive/MyDrive/EEG_Siena_Seizure_Data/edf_files/PN00-1.edf'\n",
        "\n",
        "# Load the raw data (only header info is needed to get channel names)\n",
        "raw_test = mne.io.read_raw_edf(sample_edf_path, preload=False, verbose='WARNING')\n",
        "\n",
        "print(\"Actual channel names in PN00-1.edf (before dropping EKG):\")\n",
        "print(raw_test.ch_names)\n",
        "\n",
        "# If you want to see them AFTER EKG is dropped (like your current code does)\n",
        "ekg_channels = [ch for ch in raw_test.ch_names if 'EKG' in ch.upper()]\n",
        "if ekg_channels:\n",
        "    raw_test.drop_channels(ekg_channels)\n",
        "print(\"\\nActual channel names AFTER EKG drop:\")\n",
        "print(raw_test.ch_names)\n",
        "print(f\"Count: {len(raw_test.ch_names)}\")"
      ]
    },
    {
      "cell_type": "code",
      "execution_count": null,
      "metadata": {
        "id": "EdSky7w4K6v8"
      },
      "outputs": [],
      "source": [
        "# Cell 3: Define parse_siena_annotations function (IMPROVED for robustness)\n",
        "\n",
        "import re\n",
        "import datetime\n",
        "\n",
        "def parse_siena_annotations(annotation_filepath, target_edf_filename):\n",
        "    \"\"\"\n",
        "    Parses the Siena annotations file to extract seizure start/end times\n",
        "    for a specific EDF file, accounting for potential whitespace.\n",
        "\n",
        "    Args:\n",
        "        annotation_filepath (str): Path to the Seizures-list-PNXX.txt file.\n",
        "        target_edf_filename (str): The specific EDF filename (e.g., 'PN00-1.edf')\n",
        "                                   for which to find annotations.\n",
        "\n",
        "    Returns:\n",
        "        list: A list of tuples, where each tuple is (seizure_start_sec, seizure_end_sec)\n",
        "              relative to the start of the EDF recording.\n",
        "              Returns an empty list if no annotations are found for the target EDF.\n",
        "    \"\"\"\n",
        "    seizure_annotations = []\n",
        "    found_target_file = False\n",
        "    registration_start_time_str = None # To store the registration start time for relative calculation\n",
        "\n",
        "    try:\n",
        "        with open(annotation_filepath, 'r') as f:\n",
        "            content = f.read() # Read the entire content\n",
        "\n",
        "        # Split the content into sections based on \"File name:\"\n",
        "        # Use re.split to keep the delimiter (File name: ...)\n",
        "        sections = re.split(r'(File name: .+?\\.edf)', content, flags=re.IGNORECASE)\n",
        "\n",
        "        # The first element of sections will be anything before the first \"File name:\",\n",
        "        # so we start from index 1 and process in pairs (delimiter, content)\n",
        "        for i in range(1, len(sections), 2):\n",
        "            file_name_line = sections[i].strip() # Get the 'File name: PNXX-Y.edf' line\n",
        "            section_content = sections[i+1] # Get the content for this file\n",
        "\n",
        "            # Extract the actual EDF filename from the line\n",
        "            match_filename = re.search(r'File name:\\s*(\\S+\\.edf)', file_name_line, re.IGNORECASE)\n",
        "            if match_filename:\n",
        "                current_file_in_annotation = match_filename.group(1) # This is the filename from the annotation\n",
        "\n",
        "                # Use .lower() and .strip() for robust comparison\n",
        "                if current_file_in_annotation.lower().strip() == target_edf_filename.lower().strip():\n",
        "                    found_target_file = True\n",
        "\n",
        "                    # Extract Registration start time for this section\n",
        "                    reg_start_match = re.search(r'Registration start time:\\s*(\\d{2}\\.\\d{2}\\.\\d{2})', section_content)\n",
        "                    if reg_start_match:\n",
        "                        registration_start_time_str = reg_start_match.group(1)\n",
        "                        # Convert registration start time to a datetime object for calculation\n",
        "                        reg_start_dt = datetime.datetime.strptime(registration_start_time_str, '%H.%M.%S')\n",
        "                    else:\n",
        "                        print(f\"Warning: Registration start time not found for {target_edf_filename} in annotation file.\")\n",
        "                        found_target_file = False # Cannot process if registration start time is missing\n",
        "                        continue # Skip this section if reg start time is crucial\n",
        "\n",
        "                    # Find all seizure events within this section\n",
        "                    seizure_matches = re.findall(\n",
        "                        r'Seizure start time:\\s*(\\d{2}\\.\\d{2}\\.\\d{2})\\s*Seizure end time:\\s*(\\d{2}\\.\\d{2}\\.\\d{2})',\n",
        "                        section_content\n",
        "                    )\n",
        "\n",
        "                    for seizure_start_str, seizure_end_str in seizure_matches:\n",
        "                        try:\n",
        "                            seizure_start_dt = datetime.datetime.strptime(seizure_start_str, '%H.%M.%S')\n",
        "                            seizure_end_dt = datetime.datetime.strptime(seizure_end_str, '%H.%M.%S')\n",
        "\n",
        "                            # Calculate relative times in seconds from midnight for simplicity\n",
        "                            # We assume times loop around midnight if necessary, which is typical for 24hr recordings\n",
        "                            start_seconds_from_midnight = (seizure_start_dt - datetime.datetime.min).total_seconds()\n",
        "                            end_seconds_from_midnight = (seizure_end_dt - datetime.datetime.min).total_seconds()\n",
        "                            reg_start_seconds_from_midnight = (reg_start_dt - datetime.datetime.min).total_seconds()\n",
        "\n",
        "                            # Calculate seizure times relative to the registration start time of the *recording*\n",
        "                            seizure_start_sec_relative = start_seconds_from_midnight - reg_start_seconds_from_midnight\n",
        "                            seizure_end_sec_relative = end_seconds_from_midnight - reg_start_seconds_from_midnight\n",
        "\n",
        "                            # Handle cases where seizure time crosses midnight\n",
        "                            if seizure_start_sec_relative < 0:\n",
        "                                seizure_start_sec_relative += 24 * 3600\n",
        "                            if seizure_end_sec_relative < 0:\n",
        "                                seizure_end_sec_relative += 24 * 3600\n",
        "                            if seizure_end_sec_relative < seizure_start_sec_relative: # if seizure ends on next day\n",
        "                                seizure_end_sec_relative += 24 * 3600\n",
        "\n",
        "                            seizure_annotations.append((seizure_start_sec_relative, seizure_end_sec_relative))\n",
        "                        except ValueError as e:\n",
        "                            print(f\"Error parsing seizure time for {current_file_in_annotation}: {e}. Skipping this seizure entry.\")\n",
        "                    # Stop processing after finding the target file's annotations\n",
        "                    break\n",
        "\n",
        "        if not found_target_file:\n",
        "            # This warning is now correctly handled by the main loop.\n",
        "            # print(f\"Debug: Target file {target_edf_filename} not found in annotation file {annotation_filepath}.\")\n",
        "            pass # The main loop handles \"No specific seizure annotations found\"\n",
        "\n",
        "    except FileNotFoundError:\n",
        "        print(f\"Error: Annotation file not found at {annotation_filepath}\")\n",
        "    except Exception as e:\n",
        "        print(f\"An unexpected error occurred while parsing {annotation_filepath}: {e}\")\n",
        "\n",
        "    return seizure_annotations"
      ]
    },
    {
      "cell_type": "code",
      "execution_count": null,
      "metadata": {
        "colab": {
          "base_uri": "https://localhost:8080/"
        },
        "id": "R1NWHDitK8fe",
        "outputId": "5ecd4f77-a55b-44c7-c061-9ef3ec34de7e"
      },
      "outputs": [
        {
          "name": "stdout",
          "output_type": "stream",
          "text": [
            "=== Initial Path Verification ===\n",
            "Checking EDF file directly in BASE_DATA_PATH: /content/drive/MyDrive/EEG_Siena_Seizure_Data/edf_files/PN00-1.edf\n",
            "Exists: True\n",
            "Sample EDF files in '/content/drive/MyDrive/EEG_Siena_Seizure_Data/edf_files/' folder: ['PN00-5.edf', 'PN00-4.edf', 'PN00-3.edf']\n",
            "\n",
            "Checking Annotation file: /content/drive/MyDrive/EEG_Siena_Seizure_Data/textfile/Seizures-list-PN00.txt\n",
            "Exists: True\n",
            "==================================\n",
            "\n",
            "\n",
            "🔍 Processing Patient PN00, EDF: PN00-1.edf...\n"
          ]
        },
        {
          "name": "stderr",
          "output_type": "stream",
          "text": [
            "/tmp/ipython-input-8-2844998256.py:51: RuntimeWarning: Channels contain different highpass filters. Highest filter setting will be stored.\n",
            "  raw = mne.io.read_raw_edf(edf_filepath, preload=True, verbose='WARNING')\n",
            "/tmp/ipython-input-8-2844998256.py:51: RuntimeWarning: Channels contain different lowpass filters. Lowest filter setting will be stored.\n",
            "  raw = mne.io.read_raw_edf(edf_filepath, preload=True, verbose='WARNING')\n",
            "/tmp/ipython-input-8-2844998256.py:51: RuntimeWarning: Highpass cutoff frequency 15.91549 is greater than lowpass cutoff frequency 15.0, setting values to 0 and Nyquist.\n",
            "  raw = mne.io.read_raw_edf(edf_filepath, preload=True, verbose='WARNING')\n"
          ]
        },
        {
          "name": "stdout",
          "output_type": "stream",
          "text": [
            "🗑️ Dropped EKG channels: ['EKG EKG'] from PN00-1.edf.\n",
            "NOTE: pick_channels() is a legacy function. New code should use inst.pick(...).\n",
            "📊 Selected 34 EEG channels (out of 34 expected) for PN00-1.edf.\n",
            "⚡ Applied 0.5-30 Hz bandpass filter to PN00-1.edf.\n",
            "Info: Could not extract interictal segments for PN00-1.edf. All available time might be marked as preictal/seizure, or recording is too short.\n",
            "✅ Extracted 509 segments from PN00-1.edf (228 preictal, 281 interictal).\n",
            "\n",
            "🔍 Processing Patient PN00, EDF: PN00-2.edf...\n"
          ]
        },
        {
          "name": "stderr",
          "output_type": "stream",
          "text": [
            "/tmp/ipython-input-8-2844998256.py:51: RuntimeWarning: Channels contain different highpass filters. Highest filter setting will be stored.\n",
            "  raw = mne.io.read_raw_edf(edf_filepath, preload=True, verbose='WARNING')\n",
            "/tmp/ipython-input-8-2844998256.py:51: RuntimeWarning: Channels contain different lowpass filters. Lowest filter setting will be stored.\n",
            "  raw = mne.io.read_raw_edf(edf_filepath, preload=True, verbose='WARNING')\n",
            "/tmp/ipython-input-8-2844998256.py:51: RuntimeWarning: Highpass cutoff frequency 15.91549 is greater than lowpass cutoff frequency 15.0, setting values to 0 and Nyquist.\n",
            "  raw = mne.io.read_raw_edf(edf_filepath, preload=True, verbose='WARNING')\n"
          ]
        },
        {
          "name": "stdout",
          "output_type": "stream",
          "text": [
            "🗑️ Dropped EKG channels: ['EKG EKG'] from PN00-2.edf.\n",
            "NOTE: pick_channels() is a legacy function. New code should use inst.pick(...).\n",
            "📊 Selected 34 EEG channels (out of 34 expected) for PN00-2.edf.\n",
            "⚡ Applied 0.5-30 Hz bandpass filter to PN00-2.edf.\n",
            "Info: Could not extract interictal segments for PN00-2.edf. All available time might be marked as preictal/seizure, or recording is too short.\n",
            "✅ Extracted 449 segments from PN00-2.edf (244 preictal, 205 interictal).\n",
            "\n",
            "🔍 Processing Patient PN00, EDF: PN00-3.edf...\n"
          ]
        },
        {
          "name": "stderr",
          "output_type": "stream",
          "text": [
            "/tmp/ipython-input-8-2844998256.py:51: RuntimeWarning: Channels contain different highpass filters. Highest filter setting will be stored.\n",
            "  raw = mne.io.read_raw_edf(edf_filepath, preload=True, verbose='WARNING')\n",
            "/tmp/ipython-input-8-2844998256.py:51: RuntimeWarning: Channels contain different lowpass filters. Lowest filter setting will be stored.\n",
            "  raw = mne.io.read_raw_edf(edf_filepath, preload=True, verbose='WARNING')\n",
            "/tmp/ipython-input-8-2844998256.py:51: RuntimeWarning: Highpass cutoff frequency 15.91549 is greater than lowpass cutoff frequency 15.0, setting values to 0 and Nyquist.\n",
            "  raw = mne.io.read_raw_edf(edf_filepath, preload=True, verbose='WARNING')\n"
          ]
        },
        {
          "name": "stdout",
          "output_type": "stream",
          "text": [
            "🗑️ Dropped EKG channels: ['EKG EKG'] from PN00-3.edf.\n",
            "NOTE: pick_channels() is a legacy function. New code should use inst.pick(...).\n",
            "📊 Selected 34 EEG channels (out of 34 expected) for PN00-3.edf.\n",
            "⚡ Applied 0.5-30 Hz bandpass filter to PN00-3.edf.\n",
            "Info: Could not extract interictal segments for PN00-3.edf. All available time might be marked as preictal/seizure, or recording is too short.\n",
            "✅ Extracted 153 segments from PN00-3.edf (153 preictal, 0 interictal).\n",
            "\n",
            "🔍 Processing Patient PN00, EDF: PN00-4.edf...\n"
          ]
        },
        {
          "name": "stderr",
          "output_type": "stream",
          "text": [
            "/tmp/ipython-input-8-2844998256.py:51: RuntimeWarning: Channels contain different highpass filters. Highest filter setting will be stored.\n",
            "  raw = mne.io.read_raw_edf(edf_filepath, preload=True, verbose='WARNING')\n",
            "/tmp/ipython-input-8-2844998256.py:51: RuntimeWarning: Channels contain different lowpass filters. Lowest filter setting will be stored.\n",
            "  raw = mne.io.read_raw_edf(edf_filepath, preload=True, verbose='WARNING')\n",
            "/tmp/ipython-input-8-2844998256.py:51: RuntimeWarning: Highpass cutoff frequency 15.91549 is greater than lowpass cutoff frequency 15.0, setting values to 0 and Nyquist.\n",
            "  raw = mne.io.read_raw_edf(edf_filepath, preload=True, verbose='WARNING')\n"
          ]
        },
        {
          "name": "stdout",
          "output_type": "stream",
          "text": [
            "🗑️ Dropped EKG channels: ['EKG EKG'] from PN00-4.edf.\n",
            "NOTE: pick_channels() is a legacy function. New code should use inst.pick(...).\n",
            "📊 Selected 34 EEG channels (out of 34 expected) for PN00-4.edf.\n",
            "⚡ Applied 0.5-30 Hz bandpass filter to PN00-4.edf.\n",
            "Info: Could not extract interictal segments for PN00-4.edf. All available time might be marked as preictal/seizure, or recording is too short.\n",
            "✅ Extracted 405 segments from PN00-4.edf (201 preictal, 204 interictal).\n",
            "\n",
            "🔍 Processing Patient PN00, EDF: PN00-5.edf...\n"
          ]
        },
        {
          "name": "stderr",
          "output_type": "stream",
          "text": [
            "/tmp/ipython-input-8-2844998256.py:51: RuntimeWarning: Channels contain different highpass filters. Highest filter setting will be stored.\n",
            "  raw = mne.io.read_raw_edf(edf_filepath, preload=True, verbose='WARNING')\n",
            "/tmp/ipython-input-8-2844998256.py:51: RuntimeWarning: Channels contain different lowpass filters. Lowest filter setting will be stored.\n",
            "  raw = mne.io.read_raw_edf(edf_filepath, preload=True, verbose='WARNING')\n",
            "/tmp/ipython-input-8-2844998256.py:51: RuntimeWarning: Highpass cutoff frequency 15.91549 is greater than lowpass cutoff frequency 15.0, setting values to 0 and Nyquist.\n",
            "  raw = mne.io.read_raw_edf(edf_filepath, preload=True, verbose='WARNING')\n"
          ]
        },
        {
          "name": "stdout",
          "output_type": "stream",
          "text": [
            "🗑️ Dropped EKG channels: ['EKG EKG'] from PN00-5.edf.\n",
            "NOTE: pick_channels() is a legacy function. New code should use inst.pick(...).\n",
            "📊 Selected 34 EEG channels (out of 34 expected) for PN00-5.edf.\n",
            "⚡ Applied 0.5-30 Hz bandpass filter to PN00-5.edf.\n",
            "Info: Could not extract interictal segments for PN00-5.edf. All available time might be marked as preictal/seizure, or recording is too short.\n",
            "✅ Extracted 413 segments from PN00-5.edf (180 preictal, 233 interictal).\n",
            "\n",
            "🎉 Data Preprocessing Complete! Final Dataset Summary:\n",
            "Total segments extracted across all processed files: 1929\n",
            "Shape of X (segments, channels, timepoints): (1929, 34, 2560)\n",
            "Shape of y (labels): (1929,)\n",
            "Number of Preictal segments (label 1): 1006\n",
            "Number of Interictal segments (label 0): 923\n"
          ]
        }
      ],
      "source": [
        "# Cell 4: Data Collection and Preprocessing Pipeline (Main Loop - FINAL Update for paths and Interictal)\n",
        "\n",
        "# Import necessary modules\n",
        "import os\n",
        "import numpy as np\n",
        "import mne\n",
        "import re\n",
        "import datetime\n",
        "\n",
        "# Initialize lists to store all segmented data and their labels\n",
        "all_segmented_data = []\n",
        "all_labels = []\n",
        "\n",
        "# ====================== PATH CONFIGURATION (CRITICAL!) ======================\n",
        "BASE_DATA_PATH = '/content/drive/MyDrive/EEG_Siena_Seizure_Data/edf_files/'\n",
        "ANNOTATION_BASE_PATH = '/content/drive/MyDrive/EEG_Siena_Seizure_Data/textfile/'\n",
        "\n",
        "# ====================== INITIAL PATH VERIFICATION ======================\n",
        "print(\"=== Initial Path Verification ===\")\n",
        "test_edf_filename = \"PN00-1.edf\"\n",
        "test_edf_filepath = os.path.join(BASE_DATA_PATH, test_edf_filename)\n",
        "print(f\"Checking EDF file directly in BASE_DATA_PATH: {test_edf_filepath}\")\n",
        "print(f\"Exists: {os.path.exists(test_edf_filepath)}\")\n",
        "if os.path.exists(test_edf_filepath):\n",
        "    print(f\"Sample EDF files in '{BASE_DATA_PATH}' folder: {os.listdir(BASE_DATA_PATH)[:3]}\")\n",
        "test_patient_id_for_annotation = \"PN00\"\n",
        "test_annotation_file_path = os.path.join(ANNOTATION_BASE_PATH, f'Seizures-list-{test_patient_id_for_annotation}.txt')\n",
        "print(f\"\\nChecking Annotation file: {test_annotation_file_path}\")\n",
        "print(f\"Exists: {os.path.exists(test_annotation_file_path)}\")\n",
        "print(\"==================================\\n\")\n",
        "\n",
        "# ====================== MAIN PROCESSING LOOP ======================\n",
        "for patient_id, edf_files_for_patient in EEG_FILES.items():\n",
        "    annotation_filename = f'Seizures-list-{patient_id}.txt'\n",
        "    annotation_filepath = os.path.join(ANNOTATION_BASE_PATH, annotation_filename)\n",
        "\n",
        "    if not os.path.exists(annotation_filepath):\n",
        "        print(f\"⚠️ Skipping patient {patient_id}: Annotation file not found at {annotation_filepath}. Cannot process EDFs for this patient.\")\n",
        "        continue\n",
        "\n",
        "    for edf_filename in edf_files_for_patient:\n",
        "        edf_filepath = os.path.join(BASE_DATA_PATH, edf_filename)\n",
        "\n",
        "        if not os.path.exists(edf_filepath):\n",
        "            print(f\"⚠️ Skipping {edf_filename}: EDF file not found at {edf_filepath}. Please verify your `EEG_FILES` list in Cell 2 and the actual contents of `{BASE_DATA_PATH}`.\")\n",
        "            continue\n",
        "\n",
        "        print(f\"\\n🔍 Processing Patient {patient_id}, EDF: {edf_filename}...\")\n",
        "\n",
        "        try:\n",
        "            raw = mne.io.read_raw_edf(edf_filepath, preload=True, verbose='WARNING')\n",
        "\n",
        "            if raw.info['sfreq'] != SFREQ:\n",
        "                print(f\"⚠️ Resampling from {raw.info['sfreq']} Hz to {SFREQ} Hz for {edf_filename}.\")\n",
        "                raw.resample(sfreq=SFREQ, verbose='WARNING')\n",
        "\n",
        "            ekg_channels_found = [ch for ch in raw.ch_names if 'EKG' in ch.upper()]\n",
        "            if ekg_channels_found:\n",
        "                raw.drop_channels(ekg_channels_found)\n",
        "                print(f\"🗑️ Dropped EKG channels: {ekg_channels_found} from {edf_filename}.\")\n",
        "\n",
        "            available_eeg_channels_in_raw = [ch for ch in EXPECTED_EEG_CHANNELS if ch in raw.ch_names]\n",
        "            raw.pick_channels(available_eeg_channels_in_raw)\n",
        "            raw.set_channel_types({ch: 'eeg' for ch in raw.ch_names})\n",
        "\n",
        "            print(f\"📊 Selected {len(raw.ch_names)} EEG channels (out of {N_EEG_CHANNELS} expected) for {edf_filename}.\")\n",
        "            if len(raw.ch_names) != N_EEG_CHANNELS:\n",
        "                print(f\"Warning: Channel count mismatch in {edf_filename}. Expected {N_EEG_CHANNELS}, found {len(raw.ch_names)}. This might affect consistent tensor shapes.\")\n",
        "\n",
        "            raw.filter(l_freq=HIGH_PASS_FREQ, h_freq=LOW_PASS_FREQ, fir_design='firwin', verbose='WARNING')\n",
        "            print(f\"⚡ Applied {HIGH_PASS_FREQ}-{LOW_PASS_FREQ} Hz bandpass filter to {edf_filename}.\")\n",
        "\n",
        "            seizure_annotations_for_this_edf = parse_siena_annotations(annotation_filepath, edf_filename)\n",
        "\n",
        "            if not seizure_annotations_for_this_edf:\n",
        "                print(f\"⚠️ No specific seizure annotations found for {edf_filename} within {annotation_filename}. Skipping segmentation for this EDF.\")\n",
        "                continue\n",
        "\n",
        "            current_file_segments = []\n",
        "            current_file_labels = []\n",
        "\n",
        "            # Initialize a list to store all \"bad\" time intervals (seizure and preictal)\n",
        "            # This helps avoid overlap when sampling interictal segments\n",
        "            bad_intervals = []\n",
        "\n",
        "            for seizure_start_sec_relative, seizure_end_sec_relative in seizure_annotations_for_this_edf:\n",
        "                # --- Preictal (Label 1) ---\n",
        "                preictal_end_sec = seizure_start_sec_relative\n",
        "                preictal_start_sec = max(preictal_end_sec - (PREICTAL_DURATION_MIN * 60), 0)\n",
        "\n",
        "                # Add preictal interval to bad_intervals\n",
        "                bad_intervals.append((preictal_start_sec, preictal_end_sec))\n",
        "\n",
        "                # Add seizure interval to bad_intervals\n",
        "                bad_intervals.append((seizure_start_sec_relative, seizure_end_sec_relative))\n",
        "\n",
        "                if preictal_end_sec > preictal_start_sec:\n",
        "                    for t_start in np.arange(preictal_start_sec, preictal_end_sec, SEGMENT_LENGTH_SEC):\n",
        "                        t_end = t_start + SEGMENT_LENGTH_SEC\n",
        "                        if t_end <= preictal_end_sec:\n",
        "                            start_idx = int(t_start * SFREQ)\n",
        "                            end_idx = int(t_end * SFREQ)\n",
        "                            if end_idx <= len(raw.times):\n",
        "                                segment = raw.get_data(picks=raw.ch_names, start=start_idx, stop=end_idx)\n",
        "                                expected_timepoints = int(SEGMENT_LENGTH_SEC * SFREQ)\n",
        "                                if segment.shape[1] == expected_timepoints:\n",
        "                                    current_file_segments.append(segment)\n",
        "                                    current_file_labels.append(1)\n",
        "                                else:\n",
        "                                    print(f\"Warning: Preictal segment for {edf_filename} at {t_start:.2f}s has incorrect length ({segment.shape[1]} vs {expected_timepoints} samples). Skipping.\")\n",
        "                            else:\n",
        "                                print(f\"Warning: Preictal segment for {edf_filename} at {t_start:.2f}s goes beyond recording end ({end_idx} samples vs {len(raw.times)} total). Skipping.\")\n",
        "                else:\n",
        "                    print(f\"Info: No valid preictal window for {edf_filename} (seizure at {seizure_start_sec_relative:.2f}s, start {preictal_start_sec:.2f}s, end {preictal_end_sec:.2f}s).\")\n",
        "\n",
        "            # --- Interictal (Label 0) ---\n",
        "            # Sort bad_intervals and merge overlapping ones to create non-overlapping \"no-go\" zones\n",
        "            bad_intervals.sort()\n",
        "            merged_bad_intervals = []\n",
        "            if bad_intervals:\n",
        "                current_start, current_end = bad_intervals[0]\n",
        "                for next_start, next_end in bad_intervals[1:]:\n",
        "                    if next_start <= current_end: # Overlap\n",
        "                        current_end = max(current_end, next_end)\n",
        "                    else: # No overlap\n",
        "                        merged_bad_intervals.append((current_start, current_end))\n",
        "                        current_start, current_end = next_start, next_end\n",
        "                merged_bad_intervals.append((current_start, current_end)) # Add the last merged interval\n",
        "\n",
        "            # Iterate through the entire recording to find interictal segments\n",
        "            # Aim to collect up to INTERICTAL_DURATION_MIN * 60 seconds of interictal data\n",
        "            interictal_segments_collected_duration = 0\n",
        "\n",
        "            for t_start in np.arange(0, raw.times[-1] - SEGMENT_LENGTH_SEC, SEGMENT_LENGTH_SEC):\n",
        "                t_end = t_start + SEGMENT_LENGTH_SEC\n",
        "\n",
        "                # Check if this segment overlaps with any merged_bad_interval\n",
        "                is_overlapping = False\n",
        "                for bad_start, bad_end in merged_bad_intervals:\n",
        "                    # Check for overlap: (start1 < end2) and (end1 > start2)\n",
        "                    if (t_start < bad_end) and (t_end > bad_start):\n",
        "                        is_overlapping = True\n",
        "                        break\n",
        "\n",
        "                if not is_overlapping:\n",
        "                    # If not overlapping and we still need interictal data\n",
        "                    if interictal_segments_collected_duration < (INTERICTAL_DURATION_MIN * 60):\n",
        "                        start_idx = int(t_start * SFREQ)\n",
        "                        end_idx = int(t_end * SFREQ)\n",
        "                        if end_idx <= len(raw.times):\n",
        "                            segment = raw.get_data(picks=raw.ch_names, start=start_idx, stop=end_idx)\n",
        "                            expected_timepoints = int(SEGMENT_LENGTH_SEC * SFREQ)\n",
        "                            if segment.shape[1] == expected_timepoints:\n",
        "                                current_file_segments.append(segment)\n",
        "                                current_file_labels.append(0)\n",
        "                                interictal_segments_collected_duration += SEGMENT_LENGTH_SEC\n",
        "                            # else: Warning already covered by general segment check\n",
        "                        # else: Warning already covered by general segment check\n",
        "                    else:\n",
        "                        # Stop collecting interictal if we have enough\n",
        "                        break\n",
        "\n",
        "            # Print specific info for interictal collection\n",
        "            if np.sum(current_file_labels == 0) > 0:\n",
        "                print(f\"Info: Successfully extracted {np.sum(current_file_labels == 0)} interictal segments from {edf_filename}.\")\n",
        "            else:\n",
        "                print(f\"Info: Could not extract interictal segments for {edf_filename}. All available time might be marked as preictal/seizure, or recording is too short.\")\n",
        "\n",
        "            print(f\"✅ Extracted {len(current_file_segments)} segments from {edf_filename} ({np.sum(current_file_labels)} preictal, {len(current_file_labels)-np.sum(current_file_labels)} interictal).\")\n",
        "\n",
        "            all_segmented_data.extend(current_file_segments)\n",
        "            all_labels.extend(current_file_labels)\n",
        "\n",
        "        except Exception as e:\n",
        "            print(f\"❌ Error processing {edf_filename}: {str(e)}. Skipping this EDF file.\")\n",
        "            continue\n",
        "\n",
        "# ====================== FINAL DATASET CONSOLIDATION ======================\n",
        "if all_segmented_data:\n",
        "    X = np.array(all_segmented_data)\n",
        "    y = np.array(all_labels)\n",
        "\n",
        "    print(\"\\n🎉 Data Preprocessing Complete! Final Dataset Summary:\")\n",
        "    print(f\"Total segments extracted across all processed files: {X.shape[0]}\")\n",
        "    print(f\"Shape of X (segments, channels, timepoints): {X.shape}\")\n",
        "    print(f\"Shape of y (labels): {y.shape}\")\n",
        "    print(f\"Number of Preictal segments (label 1): {np.sum(y == 1)}\")\n",
        "    print(f\"Number of Interictal segments (label 0): {np.sum(y == 0)}\")\n",
        "else:\n",
        "    print(\"\\n❌ No segments were extracted from any file. Please review:\")\n",
        "    print(\"1. Ensure all cells (0-3) ran successfully without errors (especially `!pip install mne`).\")\n",
        "    print(\"2. Confirm that the `EEG_FILES` dictionary in Cell 2 accurately lists *all* your EDF filenames, and that they are indeed directly in the `edf_files` folder.\")\n",
        "    print(f\"3. Confirm annotation files are at: `{ANNOTATION_BASE_PATH}Seizures-list-PNXX.txt`\")\n",
        "    print(\"4. Check if EDF files are not corrupted and contain the expected EEG channels.\")\n",
        "    X, y = np.array([]), np.array([])"
      ]
    },
    {
      "cell_type": "code",
      "execution_count": null,
      "metadata": {
        "colab": {
          "base_uri": "https://localhost:8080/"
        },
        "id": "PNjRcM3qksSm",
        "outputId": "d80a1d3d-c6c0-43c2-c96b-63d036a43e44"
      },
      "outputs": [
        {
          "name": "stdout",
          "output_type": "stream",
          "text": [
            "Actual channel names in PN00-1.edf (before dropping EKG):\n",
            "['EEG Fp1', 'EEG F3', 'EEG C3', 'EEG P3', 'EEG O1', 'EEG F7', 'EEG T3', 'EEG T5', 'EEG Fc1', 'EEG Fc5', 'EEG Cp1', 'EEG Cp5', 'EEG F9', 'EEG Fz', 'EEG Cz', 'EEG Pz', 'EEG Fp2', 'EEG F4', 'EEG C4', 'EEG P4', 'EEG O2', 'EEG F8', 'EEG T4', 'EEG T6', 'EEG Fc2', 'EEG Fc6', 'EEG Cp2', 'EEG Cp6', 'EEG F10', 'EKG EKG', 'SPO2', 'HR', '1', '2', 'MK']\n",
            "Count: 35\n",
            "\n",
            "Dropped EKG channels: ['EKG EKG']\n",
            "\n",
            "Actual channel names AFTER EKG drop:\n",
            "['EEG Fp1', 'EEG F3', 'EEG C3', 'EEG P3', 'EEG O1', 'EEG F7', 'EEG T3', 'EEG T5', 'EEG Fc1', 'EEG Fc5', 'EEG Cp1', 'EEG Cp5', 'EEG F9', 'EEG Fz', 'EEG Cz', 'EEG Pz', 'EEG Fp2', 'EEG F4', 'EEG C4', 'EEG P4', 'EEG O2', 'EEG F8', 'EEG T4', 'EEG T6', 'EEG Fc2', 'EEG Fc6', 'EEG Cp2', 'EEG Cp6', 'EEG F10', 'SPO2', 'HR', '1', '2', 'MK']\n",
            "Count: 34\n"
          ]
        },
        {
          "name": "stderr",
          "output_type": "stream",
          "text": [
            "/tmp/ipython-input-5-2673604903.py:9: RuntimeWarning: Channels contain different highpass filters. Highest filter setting will be stored.\n",
            "  raw_test = mne.io.read_raw_edf(sample_edf_path, preload=False, verbose='WARNING')\n",
            "/tmp/ipython-input-5-2673604903.py:9: RuntimeWarning: Channels contain different lowpass filters. Lowest filter setting will be stored.\n",
            "  raw_test = mne.io.read_raw_edf(sample_edf_path, preload=False, verbose='WARNING')\n",
            "/tmp/ipython-input-5-2673604903.py:9: RuntimeWarning: Highpass cutoff frequency 15.91549 is greater than lowpass cutoff frequency 15.0, setting values to 0 and Nyquist.\n",
            "  raw_test = mne.io.read_raw_edf(sample_edf_path, preload=False, verbose='WARNING')\n"
          ]
        }
      ],
      "source": [
        "#temporary code 2\n",
        "import mne\n",
        "import os\n",
        "\n",
        "sample_edf_path = '/content/drive/MyDrive/EEG_Siena_Seizure_Data/edf_files/PN00-1.edf'\n",
        "\n",
        "try:\n",
        "    # Load the raw data (only header info is needed to get channel names initially)\n",
        "    raw_test = mne.io.read_raw_edf(sample_edf_path, preload=False, verbose='WARNING')\n",
        "\n",
        "    print(\"Actual channel names in PN00-1.edf (before dropping EKG):\")\n",
        "    print(raw_test.ch_names)\n",
        "    print(f\"Count: {len(raw_test.ch_names)}\")\n",
        "\n",
        "    # Drop EKG channels as your pipeline does\n",
        "    ekg_channels = [ch for ch in raw_test.ch_names if 'EKG' in ch.upper()]\n",
        "    if ekg_channels:\n",
        "        raw_test.drop_channels(ekg_channels)\n",
        "        print(f\"\\nDropped EKG channels: {ekg_channels}\")\n",
        "\n",
        "    print(\"\\nActual channel names AFTER EKG drop:\")\n",
        "    print(raw_test.ch_names) # THIS IS THE LIST YOU NEED TO COPY!\n",
        "    print(f\"Count: {len(raw_test.ch_names)}\")\n",
        "\n",
        "    # If you see '1' as a channel name, that's likely the single channel being picked.\n",
        "    # We need to see what the OTHER 28 (or whatever the total is) are named in the EDF.\n",
        "\n",
        "except Exception as e:\n",
        "    print(f\"Error inspecting sample EDF file: {e}\")"
      ]
    },
    {
      "cell_type": "code",
      "execution_count": null,
      "metadata": {
        "colab": {
          "base_uri": "https://localhost:8080/"
        },
        "id": "Um0cEZnNorN3",
        "outputId": "57746190-5b9e-41ae-9f0a-e578baabd667"
      },
      "outputs": [
        {
          "name": "stdout",
          "output_type": "stream",
          "text": [
            "Deep learning libraries imported!\n"
          ]
        }
      ],
      "source": [
        "# Cell 5: Import Deep Learning Libraries\n",
        "\n",
        "import tensorflow as tf\n",
        "from tensorflow import keras\n",
        "from sklearn.model_selection import train_test_split\n",
        "from sklearn.metrics import classification_report, confusion_matrix, roc_auc_score, roc_curve, auc\n",
        "import matplotlib.pyplot as plt\n",
        "import seaborn as sns\n",
        "import numpy as np # Already imported, but good to ensure\n",
        "\n",
        "print(\"Deep learning libraries imported!\")"
      ]
    },
    {
      "cell_type": "code",
      "execution_count": null,
      "metadata": {
        "colab": {
          "base_uri": "https://localhost:8080/"
        },
        "id": "Y_D5l7PpqiJl",
        "outputId": "7c565ca2-9da1-4431-a413-054dc02d6513"
      },
      "outputs": [
        {
          "name": "stdout",
          "output_type": "stream",
          "text": [
            "Original X shape: (1929, 34, 2560)\n",
            "Original y shape: (1929,)\n",
            "\n",
            "Training set shape: X_train=(1543, 34, 2560), y_train=(1543,)\n",
            "Validation set shape: X_val=(193, 34, 2560), y_val=(193,)\n",
            "Test set shape: X_test=(193, 34, 2560), y_test=(193,)\n",
            "\n",
            "Class distribution in splits:\n",
            "Train (Preictal/Interictal): 805 / 738\n",
            "Validation (Preictal/Interictal): 100 / 93\n",
            "Test (Preictal/Interictal): 101 / 92\n",
            "\n",
            "Data split into training, validation, and test sets!\n"
          ]
        }
      ],
      "source": [
        "# Cell 6: Data Splitting\n",
        "\n",
        "# Ensure X and y are NumPy arrays (they should be from Cell 4's output)\n",
        "# These lines are only necessary if you restarted runtime and didn't re-run Cell 4,\n",
        "# or if you used the optional save/load in Cell 5 from the previous step.\n",
        "# If you are running sequentially after Cell 4, X and y should already be in scope.\n",
        "# X = np.array(all_segmented_data)\n",
        "# y = np.array(all_labels)\n",
        "\n",
        "print(f\"Original X shape: {X.shape}\")\n",
        "print(f\"Original y shape: {y.shape}\")\n",
        "\n",
        "# Shuffle and split data into training and temporary sets (80% train, 20% temp)\n",
        "# stratify=y is crucial for maintaining the proportion of preictal/interictal samples in each split.\n",
        "X_train, X_temp, y_train, y_temp = train_test_split(X, y, test_size=0.2, random_state=42, stratify=y)\n",
        "\n",
        "# Split the temporary set into validation and test sets (50% validation, 50% test from temp, so 10% each of original)\n",
        "# stratify=y_temp ensures proper class distribution within the temp split as well.\n",
        "X_val, X_test, y_val, y_test = train_test_split(X_temp, y_temp, test_size=0.5, random_state=42, stratify=y_temp)\n",
        "\n",
        "print(f\"\\nTraining set shape: X_train={X_train.shape}, y_train={y_train.shape}\")\n",
        "print(f\"Validation set shape: X_val={X_val.shape}, y_val={y_val.shape}\")\n",
        "print(f\"Test set shape: X_test={X_test.shape}, y_test={y_test.shape}\")\n",
        "\n",
        "# Optional: Verify class distribution in splits (important for imbalanced datasets)\n",
        "print(\"\\nClass distribution in splits:\")\n",
        "print(f\"Train (Preictal/Interictal): {np.sum(y_train==1)} / {np.sum(y_train==0)}\")\n",
        "print(f\"Validation (Preictal/Interictal): {np.sum(y_val==1)} / {np.sum(y_val==0)}\")\n",
        "print(f\"Test (Preictal/Interictal): {np.sum(y_test==1)} / {np.sum(y_test==0)}\")\n",
        "\n",
        "print(\"\\nData split into training, validation, and test sets!\")"
      ]
    },
    {
      "cell_type": "code",
      "execution_count": 56,
      "metadata": {
        "colab": {
          "base_uri": "https://localhost:8080/",
          "height": 817
        },
        "id": "LcJNR_yMrGqE",
        "outputId": "2eac21e6-5796-40cf-aa89-f9948b4939f9"
      },
      "outputs": [
        {
          "output_type": "stream",
          "name": "stderr",
          "text": [
            "/usr/local/lib/python3.11/dist-packages/keras/src/layers/convolutional/base_conv.py:107: UserWarning: Do not pass an `input_shape`/`input_dim` argument to a layer. When using Sequential models, prefer using an `Input(shape)` object as the first layer in the model instead.\n",
            "  super().__init__(activity_regularizer=activity_regularizer, **kwargs)\n"
          ]
        },
        {
          "output_type": "display_data",
          "data": {
            "text/plain": [
              "\u001b[1mModel: \"sequential_9\"\u001b[0m\n"
            ],
            "text/html": [
              "<pre style=\"white-space:pre;overflow-x:auto;line-height:normal;font-family:Menlo,'DejaVu Sans Mono',consolas,'Courier New',monospace\"><span style=\"font-weight: bold\">Model: \"sequential_9\"</span>\n",
              "</pre>\n"
            ]
          },
          "metadata": {}
        },
        {
          "output_type": "display_data",
          "data": {
            "text/plain": [
              "┏━━━━━━━━━━━━━━━━━━━━━━━━━━━━━━━━━┳━━━━━━━━━━━━━━━━━━━━━━━━┳━━━━━━━━━━━━━━━┓\n",
              "┃\u001b[1m \u001b[0m\u001b[1mLayer (type)                   \u001b[0m\u001b[1m \u001b[0m┃\u001b[1m \u001b[0m\u001b[1mOutput Shape          \u001b[0m\u001b[1m \u001b[0m┃\u001b[1m \u001b[0m\u001b[1m      Param #\u001b[0m\u001b[1m \u001b[0m┃\n",
              "┡━━━━━━━━━━━━━━━━━━━━━━━━━━━━━━━━━╇━━━━━━━━━━━━━━━━━━━━━━━━╇━━━━━━━━━━━━━━━┩\n",
              "│ conv1d_27 (\u001b[38;5;33mConv1D\u001b[0m)              │ (\u001b[38;5;45mNone\u001b[0m, \u001b[38;5;34m34\u001b[0m, \u001b[38;5;34m24\u001b[0m)         │       \u001b[38;5;34m184,344\u001b[0m │\n",
              "├─────────────────────────────────┼────────────────────────┼───────────────┤\n",
              "│ batch_normalization_36          │ (\u001b[38;5;45mNone\u001b[0m, \u001b[38;5;34m34\u001b[0m, \u001b[38;5;34m24\u001b[0m)         │            \u001b[38;5;34m96\u001b[0m │\n",
              "│ (\u001b[38;5;33mBatchNormalization\u001b[0m)            │                        │               │\n",
              "├─────────────────────────────────┼────────────────────────┼───────────────┤\n",
              "│ max_pooling1d_27 (\u001b[38;5;33mMaxPooling1D\u001b[0m) │ (\u001b[38;5;45mNone\u001b[0m, \u001b[38;5;34m17\u001b[0m, \u001b[38;5;34m24\u001b[0m)         │             \u001b[38;5;34m0\u001b[0m │\n",
              "├─────────────────────────────────┼────────────────────────┼───────────────┤\n",
              "│ dropout_36 (\u001b[38;5;33mDropout\u001b[0m)            │ (\u001b[38;5;45mNone\u001b[0m, \u001b[38;5;34m17\u001b[0m, \u001b[38;5;34m24\u001b[0m)         │             \u001b[38;5;34m0\u001b[0m │\n",
              "├─────────────────────────────────┼────────────────────────┼───────────────┤\n",
              "│ conv1d_28 (\u001b[38;5;33mConv1D\u001b[0m)              │ (\u001b[38;5;45mNone\u001b[0m, \u001b[38;5;34m17\u001b[0m, \u001b[38;5;34m48\u001b[0m)         │         \u001b[38;5;34m3,504\u001b[0m │\n",
              "├─────────────────────────────────┼────────────────────────┼───────────────┤\n",
              "│ batch_normalization_37          │ (\u001b[38;5;45mNone\u001b[0m, \u001b[38;5;34m17\u001b[0m, \u001b[38;5;34m48\u001b[0m)         │           \u001b[38;5;34m192\u001b[0m │\n",
              "│ (\u001b[38;5;33mBatchNormalization\u001b[0m)            │                        │               │\n",
              "├─────────────────────────────────┼────────────────────────┼───────────────┤\n",
              "│ max_pooling1d_28 (\u001b[38;5;33mMaxPooling1D\u001b[0m) │ (\u001b[38;5;45mNone\u001b[0m, \u001b[38;5;34m8\u001b[0m, \u001b[38;5;34m48\u001b[0m)          │             \u001b[38;5;34m0\u001b[0m │\n",
              "├─────────────────────────────────┼────────────────────────┼───────────────┤\n",
              "│ dropout_37 (\u001b[38;5;33mDropout\u001b[0m)            │ (\u001b[38;5;45mNone\u001b[0m, \u001b[38;5;34m8\u001b[0m, \u001b[38;5;34m48\u001b[0m)          │             \u001b[38;5;34m0\u001b[0m │\n",
              "├─────────────────────────────────┼────────────────────────┼───────────────┤\n",
              "│ conv1d_29 (\u001b[38;5;33mConv1D\u001b[0m)              │ (\u001b[38;5;45mNone\u001b[0m, \u001b[38;5;34m8\u001b[0m, \u001b[38;5;34m96\u001b[0m)          │        \u001b[38;5;34m13,920\u001b[0m │\n",
              "├─────────────────────────────────┼────────────────────────┼───────────────┤\n",
              "│ batch_normalization_38          │ (\u001b[38;5;45mNone\u001b[0m, \u001b[38;5;34m8\u001b[0m, \u001b[38;5;34m96\u001b[0m)          │           \u001b[38;5;34m384\u001b[0m │\n",
              "│ (\u001b[38;5;33mBatchNormalization\u001b[0m)            │                        │               │\n",
              "├─────────────────────────────────┼────────────────────────┼───────────────┤\n",
              "│ max_pooling1d_29 (\u001b[38;5;33mMaxPooling1D\u001b[0m) │ (\u001b[38;5;45mNone\u001b[0m, \u001b[38;5;34m4\u001b[0m, \u001b[38;5;34m96\u001b[0m)          │             \u001b[38;5;34m0\u001b[0m │\n",
              "├─────────────────────────────────┼────────────────────────┼───────────────┤\n",
              "│ dropout_38 (\u001b[38;5;33mDropout\u001b[0m)            │ (\u001b[38;5;45mNone\u001b[0m, \u001b[38;5;34m4\u001b[0m, \u001b[38;5;34m96\u001b[0m)          │             \u001b[38;5;34m0\u001b[0m │\n",
              "├─────────────────────────────────┼────────────────────────┼───────────────┤\n",
              "│ flatten_9 (\u001b[38;5;33mFlatten\u001b[0m)             │ (\u001b[38;5;45mNone\u001b[0m, \u001b[38;5;34m384\u001b[0m)            │             \u001b[38;5;34m0\u001b[0m │\n",
              "├─────────────────────────────────┼────────────────────────┼───────────────┤\n",
              "│ dense_18 (\u001b[38;5;33mDense\u001b[0m)                │ (\u001b[38;5;45mNone\u001b[0m, \u001b[38;5;34m96\u001b[0m)             │        \u001b[38;5;34m36,960\u001b[0m │\n",
              "├─────────────────────────────────┼────────────────────────┼───────────────┤\n",
              "│ batch_normalization_39          │ (\u001b[38;5;45mNone\u001b[0m, \u001b[38;5;34m96\u001b[0m)             │           \u001b[38;5;34m384\u001b[0m │\n",
              "│ (\u001b[38;5;33mBatchNormalization\u001b[0m)            │                        │               │\n",
              "├─────────────────────────────────┼────────────────────────┼───────────────┤\n",
              "│ dropout_39 (\u001b[38;5;33mDropout\u001b[0m)            │ (\u001b[38;5;45mNone\u001b[0m, \u001b[38;5;34m96\u001b[0m)             │             \u001b[38;5;34m0\u001b[0m │\n",
              "├─────────────────────────────────┼────────────────────────┼───────────────┤\n",
              "│ dense_19 (\u001b[38;5;33mDense\u001b[0m)                │ (\u001b[38;5;45mNone\u001b[0m, \u001b[38;5;34m1\u001b[0m)              │            \u001b[38;5;34m97\u001b[0m │\n",
              "└─────────────────────────────────┴────────────────────────┴───────────────┘\n"
            ],
            "text/html": [
              "<pre style=\"white-space:pre;overflow-x:auto;line-height:normal;font-family:Menlo,'DejaVu Sans Mono',consolas,'Courier New',monospace\">┏━━━━━━━━━━━━━━━━━━━━━━━━━━━━━━━━━┳━━━━━━━━━━━━━━━━━━━━━━━━┳━━━━━━━━━━━━━━━┓\n",
              "┃<span style=\"font-weight: bold\"> Layer (type)                    </span>┃<span style=\"font-weight: bold\"> Output Shape           </span>┃<span style=\"font-weight: bold\">       Param # </span>┃\n",
              "┡━━━━━━━━━━━━━━━━━━━━━━━━━━━━━━━━━╇━━━━━━━━━━━━━━━━━━━━━━━━╇━━━━━━━━━━━━━━━┩\n",
              "│ conv1d_27 (<span style=\"color: #0087ff; text-decoration-color: #0087ff\">Conv1D</span>)              │ (<span style=\"color: #00d7ff; text-decoration-color: #00d7ff\">None</span>, <span style=\"color: #00af00; text-decoration-color: #00af00\">34</span>, <span style=\"color: #00af00; text-decoration-color: #00af00\">24</span>)         │       <span style=\"color: #00af00; text-decoration-color: #00af00\">184,344</span> │\n",
              "├─────────────────────────────────┼────────────────────────┼───────────────┤\n",
              "│ batch_normalization_36          │ (<span style=\"color: #00d7ff; text-decoration-color: #00d7ff\">None</span>, <span style=\"color: #00af00; text-decoration-color: #00af00\">34</span>, <span style=\"color: #00af00; text-decoration-color: #00af00\">24</span>)         │            <span style=\"color: #00af00; text-decoration-color: #00af00\">96</span> │\n",
              "│ (<span style=\"color: #0087ff; text-decoration-color: #0087ff\">BatchNormalization</span>)            │                        │               │\n",
              "├─────────────────────────────────┼────────────────────────┼───────────────┤\n",
              "│ max_pooling1d_27 (<span style=\"color: #0087ff; text-decoration-color: #0087ff\">MaxPooling1D</span>) │ (<span style=\"color: #00d7ff; text-decoration-color: #00d7ff\">None</span>, <span style=\"color: #00af00; text-decoration-color: #00af00\">17</span>, <span style=\"color: #00af00; text-decoration-color: #00af00\">24</span>)         │             <span style=\"color: #00af00; text-decoration-color: #00af00\">0</span> │\n",
              "├─────────────────────────────────┼────────────────────────┼───────────────┤\n",
              "│ dropout_36 (<span style=\"color: #0087ff; text-decoration-color: #0087ff\">Dropout</span>)            │ (<span style=\"color: #00d7ff; text-decoration-color: #00d7ff\">None</span>, <span style=\"color: #00af00; text-decoration-color: #00af00\">17</span>, <span style=\"color: #00af00; text-decoration-color: #00af00\">24</span>)         │             <span style=\"color: #00af00; text-decoration-color: #00af00\">0</span> │\n",
              "├─────────────────────────────────┼────────────────────────┼───────────────┤\n",
              "│ conv1d_28 (<span style=\"color: #0087ff; text-decoration-color: #0087ff\">Conv1D</span>)              │ (<span style=\"color: #00d7ff; text-decoration-color: #00d7ff\">None</span>, <span style=\"color: #00af00; text-decoration-color: #00af00\">17</span>, <span style=\"color: #00af00; text-decoration-color: #00af00\">48</span>)         │         <span style=\"color: #00af00; text-decoration-color: #00af00\">3,504</span> │\n",
              "├─────────────────────────────────┼────────────────────────┼───────────────┤\n",
              "│ batch_normalization_37          │ (<span style=\"color: #00d7ff; text-decoration-color: #00d7ff\">None</span>, <span style=\"color: #00af00; text-decoration-color: #00af00\">17</span>, <span style=\"color: #00af00; text-decoration-color: #00af00\">48</span>)         │           <span style=\"color: #00af00; text-decoration-color: #00af00\">192</span> │\n",
              "│ (<span style=\"color: #0087ff; text-decoration-color: #0087ff\">BatchNormalization</span>)            │                        │               │\n",
              "├─────────────────────────────────┼────────────────────────┼───────────────┤\n",
              "│ max_pooling1d_28 (<span style=\"color: #0087ff; text-decoration-color: #0087ff\">MaxPooling1D</span>) │ (<span style=\"color: #00d7ff; text-decoration-color: #00d7ff\">None</span>, <span style=\"color: #00af00; text-decoration-color: #00af00\">8</span>, <span style=\"color: #00af00; text-decoration-color: #00af00\">48</span>)          │             <span style=\"color: #00af00; text-decoration-color: #00af00\">0</span> │\n",
              "├─────────────────────────────────┼────────────────────────┼───────────────┤\n",
              "│ dropout_37 (<span style=\"color: #0087ff; text-decoration-color: #0087ff\">Dropout</span>)            │ (<span style=\"color: #00d7ff; text-decoration-color: #00d7ff\">None</span>, <span style=\"color: #00af00; text-decoration-color: #00af00\">8</span>, <span style=\"color: #00af00; text-decoration-color: #00af00\">48</span>)          │             <span style=\"color: #00af00; text-decoration-color: #00af00\">0</span> │\n",
              "├─────────────────────────────────┼────────────────────────┼───────────────┤\n",
              "│ conv1d_29 (<span style=\"color: #0087ff; text-decoration-color: #0087ff\">Conv1D</span>)              │ (<span style=\"color: #00d7ff; text-decoration-color: #00d7ff\">None</span>, <span style=\"color: #00af00; text-decoration-color: #00af00\">8</span>, <span style=\"color: #00af00; text-decoration-color: #00af00\">96</span>)          │        <span style=\"color: #00af00; text-decoration-color: #00af00\">13,920</span> │\n",
              "├─────────────────────────────────┼────────────────────────┼───────────────┤\n",
              "│ batch_normalization_38          │ (<span style=\"color: #00d7ff; text-decoration-color: #00d7ff\">None</span>, <span style=\"color: #00af00; text-decoration-color: #00af00\">8</span>, <span style=\"color: #00af00; text-decoration-color: #00af00\">96</span>)          │           <span style=\"color: #00af00; text-decoration-color: #00af00\">384</span> │\n",
              "│ (<span style=\"color: #0087ff; text-decoration-color: #0087ff\">BatchNormalization</span>)            │                        │               │\n",
              "├─────────────────────────────────┼────────────────────────┼───────────────┤\n",
              "│ max_pooling1d_29 (<span style=\"color: #0087ff; text-decoration-color: #0087ff\">MaxPooling1D</span>) │ (<span style=\"color: #00d7ff; text-decoration-color: #00d7ff\">None</span>, <span style=\"color: #00af00; text-decoration-color: #00af00\">4</span>, <span style=\"color: #00af00; text-decoration-color: #00af00\">96</span>)          │             <span style=\"color: #00af00; text-decoration-color: #00af00\">0</span> │\n",
              "├─────────────────────────────────┼────────────────────────┼───────────────┤\n",
              "│ dropout_38 (<span style=\"color: #0087ff; text-decoration-color: #0087ff\">Dropout</span>)            │ (<span style=\"color: #00d7ff; text-decoration-color: #00d7ff\">None</span>, <span style=\"color: #00af00; text-decoration-color: #00af00\">4</span>, <span style=\"color: #00af00; text-decoration-color: #00af00\">96</span>)          │             <span style=\"color: #00af00; text-decoration-color: #00af00\">0</span> │\n",
              "├─────────────────────────────────┼────────────────────────┼───────────────┤\n",
              "│ flatten_9 (<span style=\"color: #0087ff; text-decoration-color: #0087ff\">Flatten</span>)             │ (<span style=\"color: #00d7ff; text-decoration-color: #00d7ff\">None</span>, <span style=\"color: #00af00; text-decoration-color: #00af00\">384</span>)            │             <span style=\"color: #00af00; text-decoration-color: #00af00\">0</span> │\n",
              "├─────────────────────────────────┼────────────────────────┼───────────────┤\n",
              "│ dense_18 (<span style=\"color: #0087ff; text-decoration-color: #0087ff\">Dense</span>)                │ (<span style=\"color: #00d7ff; text-decoration-color: #00d7ff\">None</span>, <span style=\"color: #00af00; text-decoration-color: #00af00\">96</span>)             │        <span style=\"color: #00af00; text-decoration-color: #00af00\">36,960</span> │\n",
              "├─────────────────────────────────┼────────────────────────┼───────────────┤\n",
              "│ batch_normalization_39          │ (<span style=\"color: #00d7ff; text-decoration-color: #00d7ff\">None</span>, <span style=\"color: #00af00; text-decoration-color: #00af00\">96</span>)             │           <span style=\"color: #00af00; text-decoration-color: #00af00\">384</span> │\n",
              "│ (<span style=\"color: #0087ff; text-decoration-color: #0087ff\">BatchNormalization</span>)            │                        │               │\n",
              "├─────────────────────────────────┼────────────────────────┼───────────────┤\n",
              "│ dropout_39 (<span style=\"color: #0087ff; text-decoration-color: #0087ff\">Dropout</span>)            │ (<span style=\"color: #00d7ff; text-decoration-color: #00d7ff\">None</span>, <span style=\"color: #00af00; text-decoration-color: #00af00\">96</span>)             │             <span style=\"color: #00af00; text-decoration-color: #00af00\">0</span> │\n",
              "├─────────────────────────────────┼────────────────────────┼───────────────┤\n",
              "│ dense_19 (<span style=\"color: #0087ff; text-decoration-color: #0087ff\">Dense</span>)                │ (<span style=\"color: #00d7ff; text-decoration-color: #00d7ff\">None</span>, <span style=\"color: #00af00; text-decoration-color: #00af00\">1</span>)              │            <span style=\"color: #00af00; text-decoration-color: #00af00\">97</span> │\n",
              "└─────────────────────────────────┴────────────────────────┴───────────────┘\n",
              "</pre>\n"
            ]
          },
          "metadata": {}
        },
        {
          "output_type": "display_data",
          "data": {
            "text/plain": [
              "\u001b[1m Total params: \u001b[0m\u001b[38;5;34m239,881\u001b[0m (937.04 KB)\n"
            ],
            "text/html": [
              "<pre style=\"white-space:pre;overflow-x:auto;line-height:normal;font-family:Menlo,'DejaVu Sans Mono',consolas,'Courier New',monospace\"><span style=\"font-weight: bold\"> Total params: </span><span style=\"color: #00af00; text-decoration-color: #00af00\">239,881</span> (937.04 KB)\n",
              "</pre>\n"
            ]
          },
          "metadata": {}
        },
        {
          "output_type": "display_data",
          "data": {
            "text/plain": [
              "\u001b[1m Trainable params: \u001b[0m\u001b[38;5;34m239,353\u001b[0m (934.97 KB)\n"
            ],
            "text/html": [
              "<pre style=\"white-space:pre;overflow-x:auto;line-height:normal;font-family:Menlo,'DejaVu Sans Mono',consolas,'Courier New',monospace\"><span style=\"font-weight: bold\"> Trainable params: </span><span style=\"color: #00af00; text-decoration-color: #00af00\">239,353</span> (934.97 KB)\n",
              "</pre>\n"
            ]
          },
          "metadata": {}
        },
        {
          "output_type": "display_data",
          "data": {
            "text/plain": [
              "\u001b[1m Non-trainable params: \u001b[0m\u001b[38;5;34m528\u001b[0m (2.06 KB)\n"
            ],
            "text/html": [
              "<pre style=\"white-space:pre;overflow-x:auto;line-height:normal;font-family:Menlo,'DejaVu Sans Mono',consolas,'Courier New',monospace\"><span style=\"font-weight: bold\"> Non-trainable params: </span><span style=\"color: #00af00; text-decoration-color: #00af00\">528</span> (2.06 KB)\n",
              "</pre>\n"
            ]
          },
          "metadata": {}
        },
        {
          "output_type": "stream",
          "name": "stdout",
          "text": [
            "\n",
            "CNN Model architecture defined (with middle-ground complexity)!\n"
          ]
        }
      ],
      "source": [
        "# Cell 7: Define the CNN Model Architecture (UPDATED - Middle-ground complexity)\n",
        "\n",
        "import tensorflow as tf\n",
        "from tensorflow import keras\n",
        "\n",
        "# Get input shape from your data\n",
        "input_shape = (X_train.shape[1], X_train.shape[2]) # (34, 2560) in your case\n",
        "\n",
        "model = keras.Sequential([\n",
        "    # First Convolutional Block (filters reduced from 32 to 24)\n",
        "    keras.layers.Conv1D(filters=24, kernel_size=3, activation='relu', input_shape=input_shape, padding='same',\n",
        "                        kernel_regularizer=keras.regularizers.l2(0.001)),\n",
        "    keras.layers.BatchNormalization(),\n",
        "    keras.layers.MaxPooling1D(pool_size=2),\n",
        "    keras.layers.Dropout(0.3), # Original dropout rate\n",
        "\n",
        "    # Second Convolutional Block (filters reduced from 64 to 48)\n",
        "    keras.layers.Conv1D(filters=48, kernel_size=3, activation='relu', padding='same',\n",
        "                        kernel_regularizer=keras.regularizers.l2(0.001)),\n",
        "    keras.layers.BatchNormalization(),\n",
        "    keras.layers.MaxPooling1D(pool_size=2),\n",
        "    keras.layers.Dropout(0.3), # Original dropout rate\n",
        "\n",
        "    # Third Convolutional Block (filters reduced from 128 to 96)\n",
        "    keras.layers.Conv1D(filters=96, kernel_size=3, activation='relu', padding='same',\n",
        "                        kernel_regularizer=keras.regularizers.l2(0.001)),\n",
        "    keras.layers.BatchNormalization(),\n",
        "    keras.layers.MaxPooling1D(pool_size=2),\n",
        "    keras.layers.Dropout(0.3), # Original dropout rate\n",
        "\n",
        "    # Flatten the output of the convolutional layers\n",
        "    keras.layers.Flatten(),\n",
        "\n",
        "    # Dense layers for classification (units reduced from 128 to 96)\n",
        "    keras.layers.Dense(96, activation='relu',\n",
        "                        kernel_regularizer=keras.regularizers.l2(0.001)),\n",
        "    keras.layers.BatchNormalization(),\n",
        "    keras.layers.Dropout(0.4), # Original dropout rate\n",
        "\n",
        "    # Output layer for binary classification\n",
        "    keras.layers.Dense(1, activation='sigmoid')\n",
        "])\n",
        "\n",
        "model.summary()\n",
        "\n",
        "print(\"\\nCNN Model architecture defined (with middle-ground complexity)!\")"
      ]
    },
    {
      "cell_type": "code",
      "execution_count": 57,
      "metadata": {
        "colab": {
          "base_uri": "https://localhost:8080/"
        },
        "id": "W8dAmGmprUVI",
        "outputId": "dfb8bb54-73f1-43d8-ac6b-aed0d78fed1c"
      },
      "outputs": [
        {
          "output_type": "stream",
          "name": "stdout",
          "text": [
            "Model compiled!\n"
          ]
        }
      ],
      "source": [
        "# Cell 8: Compile the Model\n",
        "\n",
        "import tensorflow as tf # Ensure TensorFlow is imported if not already\n",
        "\n",
        "# Define the optimizer (Adam is a good general-purpose optimizer)\n",
        "# learning_rate: Controls the step size at each iteration while moving towards a minimum of the loss function.\n",
        "optimizer = tf.keras.optimizers.Adam(learning_rate=0.001)\n",
        "\n",
        "# Compile the model\n",
        "# loss: 'binary_crossentropy' is used for binary classification problems (two classes)\n",
        "# metrics: Additional metrics to monitor during training and evaluation.\n",
        "# We include 'accuracy', 'Precision', 'Recall', and 'AUC' for a comprehensive view.\n",
        "model.compile(optimizer=optimizer,\n",
        "              loss='binary_crossentropy',\n",
        "              metrics=['accuracy',\n",
        "                       tf.keras.metrics.Precision(name='precision'),\n",
        "                       tf.keras.metrics.Recall(name='recall'),\n",
        "                       tf.keras.metrics.AUC(name='auc')])\n",
        "\n",
        "print(\"Model compiled!\")"
      ]
    },
    {
      "cell_type": "code",
      "execution_count": 59,
      "metadata": {
        "colab": {
          "base_uri": "https://localhost:8080/"
        },
        "id": "RezrFNYIreH2",
        "collapsed": true,
        "outputId": "39b7f544-c57a-473c-98cc-5208369f505a"
      },
      "outputs": [
        {
          "output_type": "stream",
          "name": "stdout",
          "text": [
            "Starting model training for up to 50 epochs with batch size 32...\n",
            "Epoch 1/50\n",
            "\u001b[1m48/49\u001b[0m \u001b[32m━━━━━━━━━━━━━━━━━━━\u001b[0m\u001b[37m━\u001b[0m \u001b[1m0s\u001b[0m 112ms/step - accuracy: 0.8136 - auc: 0.8889 - loss: 0.6433 - precision: 0.8099 - recall: 0.8380\n",
            "Epoch 1: val_loss improved from inf to 0.89319, saving model to /content/gdrive/MyDrive/EEG_Siena_Seizure_Data/best_cnn_model.keras\n",
            "\u001b[1m49/49\u001b[0m \u001b[32m━━━━━━━━━━━━━━━━━━━━\u001b[0m\u001b[37m\u001b[0m \u001b[1m7s\u001b[0m 140ms/step - accuracy: 0.8132 - auc: 0.8883 - loss: 0.6440 - precision: 0.8096 - recall: 0.8376 - val_accuracy: 0.6580 - val_auc: 0.7013 - val_loss: 0.8932 - val_precision: 0.6809 - val_recall: 0.6400\n",
            "Epoch 2/50\n",
            "\u001b[1m48/49\u001b[0m \u001b[32m━━━━━━━━━━━━━━━━━━━\u001b[0m\u001b[37m━\u001b[0m \u001b[1m0s\u001b[0m 180ms/step - accuracy: 0.8062 - auc: 0.8797 - loss: 0.6494 - precision: 0.8087 - recall: 0.8271\n",
            "Epoch 2: val_loss did not improve from 0.89319\n",
            "\u001b[1m49/49\u001b[0m \u001b[32m━━━━━━━━━━━━━━━━━━━━\u001b[0m\u001b[37m\u001b[0m \u001b[1m10s\u001b[0m 196ms/step - accuracy: 0.8065 - auc: 0.8796 - loss: 0.6494 - precision: 0.8089 - recall: 0.8274 - val_accuracy: 0.6528 - val_auc: 0.7142 - val_loss: 0.9301 - val_precision: 0.6241 - val_recall: 0.8300\n",
            "Epoch 3/50\n",
            "\u001b[1m49/49\u001b[0m \u001b[32m━━━━━━━━━━━━━━━━━━━━\u001b[0m\u001b[37m\u001b[0m \u001b[1m0s\u001b[0m 114ms/step - accuracy: 0.7916 - auc: 0.8755 - loss: 0.6502 - precision: 0.7924 - recall: 0.8132\n",
            "Epoch 3: val_loss did not improve from 0.89319\n",
            "\u001b[1m49/49\u001b[0m \u001b[32m━━━━━━━━━━━━━━━━━━━━\u001b[0m\u001b[37m\u001b[0m \u001b[1m7s\u001b[0m 125ms/step - accuracy: 0.7918 - auc: 0.8757 - loss: 0.6501 - precision: 0.7926 - recall: 0.8133 - val_accuracy: 0.6321 - val_auc: 0.7227 - val_loss: 0.9023 - val_precision: 0.6179 - val_recall: 0.7600\n",
            "Epoch 4/50\n",
            "\u001b[1m48/49\u001b[0m \u001b[32m━━━━━━━━━━━━━━━━━━━\u001b[0m\u001b[37m━\u001b[0m \u001b[1m0s\u001b[0m 162ms/step - accuracy: 0.8515 - auc: 0.9099 - loss: 0.5897 - precision: 0.8412 - recall: 0.8717\n",
            "Epoch 4: val_loss did not improve from 0.89319\n",
            "\u001b[1m49/49\u001b[0m \u001b[32m━━━━━━━━━━━━━━━━━━━━\u001b[0m\u001b[37m\u001b[0m \u001b[1m8s\u001b[0m 169ms/step - accuracy: 0.8508 - auc: 0.9095 - loss: 0.5903 - precision: 0.8410 - recall: 0.8709 - val_accuracy: 0.6373 - val_auc: 0.7226 - val_loss: 0.9222 - val_precision: 0.6316 - val_recall: 0.7200\n",
            "Epoch 5/50\n",
            "\u001b[1m49/49\u001b[0m \u001b[32m━━━━━━━━━━━━━━━━━━━━\u001b[0m\u001b[37m\u001b[0m \u001b[1m0s\u001b[0m 124ms/step - accuracy: 0.8518 - auc: 0.9281 - loss: 0.5523 - precision: 0.8493 - recall: 0.8699\n",
            "Epoch 5: val_loss improved from 0.89319 to 0.86584, saving model to /content/gdrive/MyDrive/EEG_Siena_Seizure_Data/best_cnn_model.keras\n",
            "\u001b[1m49/49\u001b[0m \u001b[32m━━━━━━━━━━━━━━━━━━━━\u001b[0m\u001b[37m\u001b[0m \u001b[1m7s\u001b[0m 137ms/step - accuracy: 0.8516 - auc: 0.9279 - loss: 0.5528 - precision: 0.8490 - recall: 0.8698 - val_accuracy: 0.6528 - val_auc: 0.7070 - val_loss: 0.8658 - val_precision: 0.6774 - val_recall: 0.6300\n",
            "Epoch 6/50\n",
            "\u001b[1m48/49\u001b[0m \u001b[32m━━━━━━━━━━━━━━━━━━━\u001b[0m\u001b[37m━\u001b[0m \u001b[1m0s\u001b[0m 170ms/step - accuracy: 0.8449 - auc: 0.9298 - loss: 0.5438 - precision: 0.8437 - recall: 0.8643\n",
            "Epoch 6: val_loss did not improve from 0.86584\n",
            "\u001b[1m49/49\u001b[0m \u001b[32m━━━━━━━━━━━━━━━━━━━━\u001b[0m\u001b[37m\u001b[0m \u001b[1m13s\u001b[0m 183ms/step - accuracy: 0.8445 - auc: 0.9293 - loss: 0.5449 - precision: 0.8434 - recall: 0.8638 - val_accuracy: 0.6477 - val_auc: 0.6969 - val_loss: 0.8929 - val_precision: 0.7759 - val_recall: 0.4500\n",
            "Epoch 7/50\n",
            "\u001b[1m49/49\u001b[0m \u001b[32m━━━━━━━━━━━━━━━━━━━━\u001b[0m\u001b[37m\u001b[0m \u001b[1m0s\u001b[0m 83ms/step - accuracy: 0.8295 - auc: 0.9037 - loss: 0.5921 - precision: 0.8354 - recall: 0.8412\n",
            "Epoch 7: val_loss did not improve from 0.86584\n",
            "\u001b[1m49/49\u001b[0m \u001b[32m━━━━━━━━━━━━━━━━━━━━\u001b[0m\u001b[37m\u001b[0m \u001b[1m6s\u001b[0m 94ms/step - accuracy: 0.8296 - auc: 0.9038 - loss: 0.5918 - precision: 0.8354 - recall: 0.8415 - val_accuracy: 0.6218 - val_auc: 0.6838 - val_loss: 0.8717 - val_precision: 0.6311 - val_recall: 0.6500\n",
            "Epoch 8/50\n",
            "\u001b[1m48/49\u001b[0m \u001b[32m━━━━━━━━━━━━━━━━━━━\u001b[0m\u001b[37m━\u001b[0m \u001b[1m0s\u001b[0m 103ms/step - accuracy: 0.8670 - auc: 0.9329 - loss: 0.5274 - precision: 0.8618 - recall: 0.8933\n",
            "Epoch 8: val_loss improved from 0.86584 to 0.85802, saving model to /content/gdrive/MyDrive/EEG_Siena_Seizure_Data/best_cnn_model.keras\n",
            "\u001b[1m49/49\u001b[0m \u001b[32m━━━━━━━━━━━━━━━━━━━━\u001b[0m\u001b[37m\u001b[0m \u001b[1m6s\u001b[0m 107ms/step - accuracy: 0.8663 - auc: 0.9324 - loss: 0.5285 - precision: 0.8612 - recall: 0.8925 - val_accuracy: 0.6684 - val_auc: 0.7265 - val_loss: 0.8580 - val_precision: 0.6915 - val_recall: 0.6500\n",
            "Epoch 9/50\n",
            "\u001b[1m48/49\u001b[0m \u001b[32m━━━━━━━━━━━━━━━━━━━\u001b[0m\u001b[37m━\u001b[0m \u001b[1m0s\u001b[0m 75ms/step - accuracy: 0.8822 - auc: 0.9425 - loss: 0.5074 - precision: 0.8920 - recall: 0.8841\n",
            "Epoch 9: val_loss did not improve from 0.85802\n",
            "\u001b[1m49/49\u001b[0m \u001b[32m━━━━━━━━━━━━━━━━━━━━\u001b[0m\u001b[37m\u001b[0m \u001b[1m4s\u001b[0m 82ms/step - accuracy: 0.8813 - auc: 0.9417 - loss: 0.5091 - precision: 0.8907 - recall: 0.8837 - val_accuracy: 0.6528 - val_auc: 0.7200 - val_loss: 0.9655 - val_precision: 0.6435 - val_recall: 0.7400\n",
            "Epoch 10/50\n",
            "\u001b[1m48/49\u001b[0m \u001b[32m━━━━━━━━━━━━━━━━━━━\u001b[0m\u001b[37m━\u001b[0m \u001b[1m0s\u001b[0m 74ms/step - accuracy: 0.8770 - auc: 0.9478 - loss: 0.4871 - precision: 0.8888 - recall: 0.8813\n",
            "Epoch 10: val_loss did not improve from 0.85802\n",
            "\u001b[1m49/49\u001b[0m \u001b[32m━━━━━━━━━━━━━━━━━━━━\u001b[0m\u001b[37m\u001b[0m \u001b[1m4s\u001b[0m 81ms/step - accuracy: 0.8767 - auc: 0.9475 - loss: 0.4879 - precision: 0.8882 - recall: 0.8811 - val_accuracy: 0.6736 - val_auc: 0.7238 - val_loss: 0.9524 - val_precision: 0.6637 - val_recall: 0.7500\n",
            "Epoch 11/50\n",
            "\u001b[1m49/49\u001b[0m \u001b[32m━━━━━━━━━━━━━━━━━━━━\u001b[0m\u001b[37m\u001b[0m \u001b[1m0s\u001b[0m 109ms/step - accuracy: 0.8756 - auc: 0.9475 - loss: 0.4894 - precision: 0.8719 - recall: 0.8895\n",
            "Epoch 11: val_loss did not improve from 0.85802\n",
            "\u001b[1m49/49\u001b[0m \u001b[32m━━━━━━━━━━━━━━━━━━━━\u001b[0m\u001b[37m\u001b[0m \u001b[1m7s\u001b[0m 118ms/step - accuracy: 0.8755 - auc: 0.9475 - loss: 0.4895 - precision: 0.8719 - recall: 0.8894 - val_accuracy: 0.6736 - val_auc: 0.7277 - val_loss: 0.9413 - val_precision: 0.6832 - val_recall: 0.6900\n",
            "Epoch 12/50\n",
            "\u001b[1m48/49\u001b[0m \u001b[32m━━━━━━━━━━━━━━━━━━━\u001b[0m\u001b[37m━\u001b[0m \u001b[1m0s\u001b[0m 72ms/step - accuracy: 0.8804 - auc: 0.9515 - loss: 0.4712 - precision: 0.8875 - recall: 0.8874\n",
            "Epoch 12: val_loss did not improve from 0.85802\n",
            "\u001b[1m49/49\u001b[0m \u001b[32m━━━━━━━━━━━━━━━━━━━━\u001b[0m\u001b[37m\u001b[0m \u001b[1m8s\u001b[0m 77ms/step - accuracy: 0.8803 - auc: 0.9514 - loss: 0.4715 - precision: 0.8868 - recall: 0.8878 - val_accuracy: 0.6632 - val_auc: 0.7359 - val_loss: 1.0268 - val_precision: 0.6496 - val_recall: 0.7600\n",
            "Epoch 13/50\n",
            "\u001b[1m48/49\u001b[0m \u001b[32m━━━━━━━━━━━━━━━━━━━\u001b[0m\u001b[37m━\u001b[0m \u001b[1m0s\u001b[0m 106ms/step - accuracy: 0.8937 - auc: 0.9580 - loss: 0.4530 - precision: 0.8901 - recall: 0.9020\n",
            "Epoch 13: val_loss did not improve from 0.85802\n",
            "\u001b[1m49/49\u001b[0m \u001b[32m━━━━━━━━━━━━━━━━━━━━\u001b[0m\u001b[37m\u001b[0m \u001b[1m7s\u001b[0m 120ms/step - accuracy: 0.8932 - auc: 0.9576 - loss: 0.4541 - precision: 0.8901 - recall: 0.9013 - val_accuracy: 0.6684 - val_auc: 0.7081 - val_loss: 0.9599 - val_precision: 0.6607 - val_recall: 0.7400\n",
            "Epoch 14/50\n",
            "\u001b[1m48/49\u001b[0m \u001b[32m━━━━━━━━━━━━━━━━━━━\u001b[0m\u001b[37m━\u001b[0m \u001b[1m0s\u001b[0m 72ms/step - accuracy: 0.8944 - auc: 0.9555 - loss: 0.4565 - precision: 0.8936 - recall: 0.9074\n",
            "Epoch 14: val_loss did not improve from 0.85802\n",
            "\u001b[1m49/49\u001b[0m \u001b[32m━━━━━━━━━━━━━━━━━━━━\u001b[0m\u001b[37m\u001b[0m \u001b[1m4s\u001b[0m 79ms/step - accuracy: 0.8940 - auc: 0.9551 - loss: 0.4577 - precision: 0.8932 - recall: 0.9071 - val_accuracy: 0.6684 - val_auc: 0.7190 - val_loss: 1.0689 - val_precision: 0.6500 - val_recall: 0.7800\n",
            "Epoch 15/50\n",
            "\u001b[1m48/49\u001b[0m \u001b[32m━━━━━━━━━━━━━━━━━━━\u001b[0m\u001b[37m━\u001b[0m \u001b[1m0s\u001b[0m 82ms/step - accuracy: 0.8817 - auc: 0.9475 - loss: 0.4794 - precision: 0.8691 - recall: 0.9023\n",
            "Epoch 15: val_loss did not improve from 0.85802\n",
            "\u001b[1m49/49\u001b[0m \u001b[32m━━━━━━━━━━━━━━━━━━━━\u001b[0m\u001b[37m\u001b[0m \u001b[1m6s\u001b[0m 89ms/step - accuracy: 0.8815 - auc: 0.9474 - loss: 0.4796 - precision: 0.8694 - recall: 0.9016 - val_accuracy: 0.6528 - val_auc: 0.6895 - val_loss: 0.9123 - val_precision: 0.6667 - val_recall: 0.6600\n",
            "Epoch 16/50\n",
            "\u001b[1m48/49\u001b[0m \u001b[32m━━━━━━━━━━━━━━━━━━━\u001b[0m\u001b[37m━\u001b[0m \u001b[1m0s\u001b[0m 105ms/step - accuracy: 0.8874 - auc: 0.9608 - loss: 0.4405 - precision: 0.8859 - recall: 0.9030\n",
            "Epoch 16: val_loss did not improve from 0.85802\n",
            "\u001b[1m49/49\u001b[0m \u001b[32m━━━━━━━━━━━━━━━━━━━━\u001b[0m\u001b[37m\u001b[0m \u001b[1m6s\u001b[0m 119ms/step - accuracy: 0.8875 - auc: 0.9608 - loss: 0.4405 - precision: 0.8861 - recall: 0.9028 - val_accuracy: 0.6580 - val_auc: 0.7243 - val_loss: 0.9770 - val_precision: 0.6518 - val_recall: 0.7300\n",
            "Epoch 17/50\n",
            "\u001b[1m48/49\u001b[0m \u001b[32m━━━━━━━━━━━━━━━━━━━\u001b[0m\u001b[37m━\u001b[0m \u001b[1m0s\u001b[0m 94ms/step - accuracy: 0.8833 - auc: 0.9586 - loss: 0.4432 - precision: 0.8903 - recall: 0.8903\n",
            "Epoch 17: val_loss did not improve from 0.85802\n",
            "\u001b[1m49/49\u001b[0m \u001b[32m━━━━━━━━━━━━━━━━━━━━\u001b[0m\u001b[37m\u001b[0m \u001b[1m9s\u001b[0m 100ms/step - accuracy: 0.8832 - auc: 0.9584 - loss: 0.4437 - precision: 0.8901 - recall: 0.8902 - val_accuracy: 0.6062 - val_auc: 0.6758 - val_loss: 0.9760 - val_precision: 0.6714 - val_recall: 0.4700\n",
            "Epoch 18/50\n",
            "\u001b[1m48/49\u001b[0m \u001b[32m━━━━━━━━━━━━━━━━━━━\u001b[0m\u001b[37m━\u001b[0m \u001b[1m0s\u001b[0m 109ms/step - accuracy: 0.8968 - auc: 0.9663 - loss: 0.4136 - precision: 0.8956 - recall: 0.9012\n",
            "Epoch 18: val_loss did not improve from 0.85802\n",
            "\u001b[1m49/49\u001b[0m \u001b[32m━━━━━━━━━━━━━━━━━━━━\u001b[0m\u001b[37m\u001b[0m \u001b[1m6s\u001b[0m 115ms/step - accuracy: 0.8960 - auc: 0.9659 - loss: 0.4152 - precision: 0.8954 - recall: 0.9000 - val_accuracy: 0.6477 - val_auc: 0.7172 - val_loss: 0.9893 - val_precision: 0.6538 - val_recall: 0.6800\n",
            "Epoch 19/50\n",
            "\u001b[1m48/49\u001b[0m \u001b[32m━━━━━━━━━━━━━━━━━━━\u001b[0m\u001b[37m━\u001b[0m \u001b[1m0s\u001b[0m 78ms/step - accuracy: 0.9018 - auc: 0.9639 - loss: 0.4258 - precision: 0.9125 - recall: 0.8995\n",
            "Epoch 19: val_loss did not improve from 0.85802\n",
            "\u001b[1m49/49\u001b[0m \u001b[32m━━━━━━━━━━━━━━━━━━━━\u001b[0m\u001b[37m\u001b[0m \u001b[1m9s\u001b[0m 85ms/step - accuracy: 0.9014 - auc: 0.9638 - loss: 0.4262 - precision: 0.9120 - recall: 0.8994 - val_accuracy: 0.6114 - val_auc: 0.7200 - val_loss: 1.5939 - val_precision: 0.5796 - val_recall: 0.9100\n",
            "Epoch 20/50\n",
            "\u001b[1m48/49\u001b[0m \u001b[32m━━━━━━━━━━━━━━━━━━━\u001b[0m\u001b[37m━\u001b[0m \u001b[1m0s\u001b[0m 100ms/step - accuracy: 0.9023 - auc: 0.9554 - loss: 0.4504 - precision: 0.8985 - recall: 0.9131\n",
            "Epoch 20: val_loss did not improve from 0.85802\n",
            "\u001b[1m49/49\u001b[0m \u001b[32m━━━━━━━━━━━━━━━━━━━━\u001b[0m\u001b[37m\u001b[0m \u001b[1m6s\u001b[0m 118ms/step - accuracy: 0.9022 - auc: 0.9555 - loss: 0.4499 - precision: 0.8986 - recall: 0.9129 - val_accuracy: 0.4819 - val_auc: 0.5960 - val_loss: 1.2505 - val_precision: 0.0000e+00 - val_recall: 0.0000e+00\n",
            "Epoch 21/50\n",
            "\u001b[1m48/49\u001b[0m \u001b[32m━━━━━━━━━━━━━━━━━━━\u001b[0m\u001b[37m━\u001b[0m \u001b[1m0s\u001b[0m 68ms/step - accuracy: 0.9038 - auc: 0.9613 - loss: 0.4230 - precision: 0.9043 - recall: 0.9181\n",
            "Epoch 21: val_loss did not improve from 0.85802\n",
            "\u001b[1m49/49\u001b[0m \u001b[32m━━━━━━━━━━━━━━━━━━━━\u001b[0m\u001b[37m\u001b[0m \u001b[1m8s\u001b[0m 73ms/step - accuracy: 0.9034 - auc: 0.9611 - loss: 0.4236 - precision: 0.9033 - recall: 0.9182 - val_accuracy: 0.5078 - val_auc: 0.6569 - val_loss: 0.9896 - val_precision: 0.7273 - val_recall: 0.0800\n",
            "Epoch 22/50\n",
            "\u001b[1m48/49\u001b[0m \u001b[32m━━━━━━━━━━━━━━━━━━━\u001b[0m\u001b[37m━\u001b[0m \u001b[1m0s\u001b[0m 81ms/step - accuracy: 0.8981 - auc: 0.9617 - loss: 0.4270 - precision: 0.9088 - recall: 0.8998\n",
            "Epoch 22: val_loss did not improve from 0.85802\n",
            "\u001b[1m49/49\u001b[0m \u001b[32m━━━━━━━━━━━━━━━━━━━━\u001b[0m\u001b[37m\u001b[0m \u001b[1m5s\u001b[0m 96ms/step - accuracy: 0.8983 - auc: 0.9617 - loss: 0.4272 - precision: 0.9086 - recall: 0.9002 - val_accuracy: 0.5233 - val_auc: 0.6310 - val_loss: 1.0129 - val_precision: 0.6000 - val_recall: 0.2400\n",
            "Epoch 23/50\n",
            "\u001b[1m48/49\u001b[0m \u001b[32m━━━━━━━━━━━━━━━━━━━\u001b[0m\u001b[37m━\u001b[0m \u001b[1m0s\u001b[0m 87ms/step - accuracy: 0.8993 - auc: 0.9678 - loss: 0.4119 - precision: 0.9052 - recall: 0.9073\n",
            "Epoch 23: val_loss did not improve from 0.85802\n",
            "\u001b[1m49/49\u001b[0m \u001b[32m━━━━━━━━━━━━━━━━━━━━\u001b[0m\u001b[37m\u001b[0m \u001b[1m5s\u001b[0m 94ms/step - accuracy: 0.8995 - auc: 0.9677 - loss: 0.4119 - precision: 0.9051 - recall: 0.9075 - val_accuracy: 0.6528 - val_auc: 0.6946 - val_loss: 0.9562 - val_precision: 0.6571 - val_recall: 0.6900\n",
            "\n",
            "Model training complete!\n"
          ]
        }
      ],
      "source": [
        "# Cell 9: Train the Model (UPDATED - Increased Early Stopping Patience)\n",
        "\n",
        "from tensorflow.keras.callbacks import EarlyStopping, ModelCheckpoint\n",
        "\n",
        "# Define EarlyStopping callback\n",
        "# monitor: Metric to monitor (val_loss is common for early stopping)\n",
        "# patience: Number of epochs with no improvement after which training will be stopped.\n",
        "# restore_best_weights: Restore model weights from the epoch with the best value of the monitored metric.\n",
        "early_stopping = EarlyStopping(monitor='val_loss', patience=15, restore_best_weights=True) # Patience increased to 15\n",
        "\n",
        "# Define ModelCheckpoint callback (optional, but good practice to save best model)\n",
        "# You might want to update the filepath if you've changed your Google Drive setup\n",
        "checkpoint_filepath = '/content/gdrive/MyDrive/EEG_Siena_Seizure_Data/best_cnn_model.keras' # Ensure this path is correct and accessible\n",
        "model_checkpoint = ModelCheckpoint(filepath=checkpoint_filepath,\n",
        "                                   monitor='val_loss',\n",
        "                                   save_best_only=True,\n",
        "                                   mode='min', # 'min' for loss, 'max' for accuracy/AUC\n",
        "                                   verbose=1)\n",
        "\n",
        "print(\"Starting model training for up to 50 epochs with batch size 32...\")\n",
        "\n",
        "# Train the model\n",
        "# X_train, y_train: Training data and labels\n",
        "# epochs: Maximum number of epochs to train for\n",
        "# batch_size: Number of samples per gradient update\n",
        "# validation_data: Data on which to evaluate the loss and any model metrics at the end of each epoch.\n",
        "# callbacks: List of callbacks to apply during training.\n",
        "history = model.fit(X_train, y_train,\n",
        "                    epochs=50, # Maximum epochs\n",
        "                    batch_size=32,\n",
        "                    validation_data=(X_val, y_val),\n",
        "                    callbacks=[early_stopping, model_checkpoint])\n",
        "\n",
        "print(\"\\nModel training complete!\")"
      ]
    },
    {
      "cell_type": "code",
      "source": [
        "# Cell 10: Evaluate the Model on the Test Set\n",
        "\n",
        "import numpy as np\n",
        "from sklearn.metrics import classification_report, confusion_matrix, roc_curve, auc\n",
        "import matplotlib.pyplot as plt\n",
        "import seaborn as sns\n",
        "\n",
        "print(\"Evaluating model on the test set...\")\n",
        "\n",
        "# Evaluate the model on the test data\n",
        "# verbose=0: Suppress progress bar during evaluation\n",
        "test_loss, test_accuracy, test_precision, test_recall, test_auc = model.evaluate(X_test, y_test, verbose=0)\n",
        "\n",
        "print(f\"\\nTest Loss: {test_loss:.4f}\")\n",
        "print(f\"Test Accuracy: {test_accuracy:.4f}\")\n",
        "print(f\"Test Precision: {test_precision:.4f}\")\n",
        "print(f\"Test Recall: {test_recall:.4f}\")\n",
        "print(f\"Test AUC: {test_auc:.4f}\")\n",
        "\n",
        "# Predict probabilities on the test set\n",
        "y_pred_proba = model.predict(X_test)\n",
        "y_pred = (y_pred_proba > 0.5).astype(int) # Convert probabilities to binary predictions (0 or 1)\n",
        "\n",
        "# --- Detailed Classification Report ---\n",
        "print(\"\\n--- Detailed Classification Report ---\")\n",
        "print(classification_report(y_test, y_pred, target_names=['Interictal (0)', 'Preictal (1)']))\n",
        "\n",
        "# --- Confusion Matrix ---\n",
        "print(\"\\n--- Confusion Matrix ---\")\n",
        "cm = confusion_matrix(y_test, y_pred)\n",
        "print(cm)\n",
        "\n",
        "plt.figure(figsize=(6, 5))\n",
        "sns.heatmap(cm, annot=True, fmt='d', cmap='Blues',\n",
        "            xticklabels=['Predicted Interictal', 'Predicted Preictal'],\n",
        "            yticklabels=['Actual Interictal', 'Actual Preictal'])\n",
        "plt.title('Confusion Matrix')\n",
        "plt.xlabel('Predicted Label')\n",
        "plt.ylabel('Actual Label')\n",
        "plt.show()\n",
        "\n",
        "# --- ROC Curve ---\n",
        "print(\"\\n--- ROC Curve ---\")\n",
        "fpr, tpr, thresholds = roc_curve(y_test, y_pred_proba)\n",
        "roc_auc = auc(fpr, tpr)\n",
        "\n",
        "plt.figure(figsize=(7, 6))\n",
        "plt.plot(fpr, tpr, color='darkorange', lw=2, label=f'ROC curve (area = {roc_auc:.2f})')\n",
        "plt.plot([0, 1], [0, 1], color='navy', lw=2, linestyle='--')\n",
        "plt.xlim([0.0, 1.0])\n",
        "plt.ylim([0.0, 1.05])\n",
        "plt.xlabel('False Positive Rate')\n",
        "plt.ylabel('True Positive Rate')\n",
        "plt.title('Receiver Operating Characteristic (ROC) Curve')\n",
        "plt.legend(loc='lower right')\n",
        "plt.show()\n",
        "\n",
        "print(\"\\nModel evaluation complete!\")"
      ],
      "metadata": {
        "colab": {
          "base_uri": "https://localhost:8080/",
          "height": 1000
        },
        "id": "H-hYqZY9t29t",
        "outputId": "9f571ba3-77ce-4163-b538-4432b552e8ac"
      },
      "execution_count": 60,
      "outputs": [
        {
          "output_type": "stream",
          "name": "stdout",
          "text": [
            "Evaluating model on the test set...\n",
            "\n",
            "Test Loss: 0.7955\n",
            "Test Accuracy: 0.6788\n",
            "Test Precision: 0.7191\n",
            "Test Recall: 0.6337\n",
            "Test AUC: 0.7661\n",
            "\u001b[1m7/7\u001b[0m \u001b[32m━━━━━━━━━━━━━━━━━━━━\u001b[0m\u001b[37m\u001b[0m \u001b[1m1s\u001b[0m 59ms/step\n",
            "\n",
            "--- Detailed Classification Report ---\n",
            "                precision    recall  f1-score   support\n",
            "\n",
            "Interictal (0)       0.64      0.73      0.68        92\n",
            "  Preictal (1)       0.72      0.63      0.67       101\n",
            "\n",
            "      accuracy                           0.68       193\n",
            "     macro avg       0.68      0.68      0.68       193\n",
            "  weighted avg       0.68      0.68      0.68       193\n",
            "\n",
            "\n",
            "--- Confusion Matrix ---\n",
            "[[67 25]\n",
            " [37 64]]\n"
          ]
        },
        {
          "output_type": "display_data",
          "data": {
            "text/plain": [
              "<Figure size 600x500 with 2 Axes>"
            ],
            "image/png": "[encoded data removed]"
          },
          "metadata": {}
        },
        {
          "output_type": "stream",
          "name": "stdout",
          "text": [
            "\n",
            "--- ROC Curve ---\n"
          ]
        },
        {
          "output_type": "display_data",
          "data": {
            "text/plain": [
              "<Figure size 700x600 with 1 Axes>"
            ],
            "image/png": "[encoded data removed]"
          },
          "metadata": {}
        },
        {
          "output_type": "stream",
          "name": "stdout",
          "text": [
            "\n",
            "Model evaluation complete!\n"
          ]
        }
      ]
    },
    {
      "cell_type": "code",
      "source": [
        "# Cell 11: Plotting Training History\n",
        "\n",
        "import matplotlib.pyplot as plt\n",
        "\n",
        "print(\"Plotting training history plots...\")\n",
        "\n",
        "# Get the history data\n",
        "hist = history.history\n",
        "\n",
        "# Create plots\n",
        "plt.figure(figsize=(15, 5))\n",
        "\n",
        "# Plot Accuracy\n",
        "plt.subplot(1, 3, 1)\n",
        "plt.plot(hist['accuracy'], label='Train')\n",
        "plt.plot(hist['val_accuracy'], label='Validation')\n",
        "plt.title('Model Accuracy')\n",
        "plt.xlabel('Epoch')\n",
        "plt.ylabel('Accuracy')\n",
        "plt.legend()\n",
        "\n",
        "# Plot Loss\n",
        "plt.subplot(1, 3, 2)\n",
        "plt.plot(hist['loss'], label='Train')\n",
        "plt.plot(hist['val_loss'], label='Validation')\n",
        "plt.title('Model Loss')\n",
        "plt.xlabel('Epoch')\n",
        "plt.ylabel('Loss')\n",
        "plt.legend()\n",
        "\n",
        "# Plot AUC\n",
        "plt.subplot(1, 3, 3)\n",
        "plt.plot(hist['auc'], label='Train')\n",
        "plt.plot(hist['val_auc'], label='Validation')\n",
        "plt.title('Model AUC')\n",
        "plt.xlabel('Epoch')\n",
        "plt.ylabel('AUC')\n",
        "plt.legend()\n",
        "\n",
        "plt.tight_layout()\n",
        "plt.show()\n",
        "\n",
        "print(\"Training history plots generated!\")"
      ],
      "metadata": {
        "colab": {
          "base_uri": "https://localhost:8080/",
          "height": 542
        },
        "id": "_jf5aCtbueXb",
        "outputId": "a93bbc3c-3b6b-43e8-fcfc-f91594d8cf20"
      },
      "execution_count": 61,
      "outputs": [
        {
          "output_type": "stream",
          "name": "stdout",
          "text": [
            "Plotting training history plots...\n"
          ]
        },
        {
          "output_type": "display_data",
          "data": {
            "text/plain": [
              "<Figure size 1500x500 with 3 Axes>"
            ],
            "image/png": "[encoded data removed]"
          },
          "metadata": {}
        },
        {
          "output_type": "stream",
          "name": "stdout",
          "text": [
            "Training history plots generated!\n"
          ]
        }
      ]
    }
  ],
  "metadata": {
    "colab": {
      "provenance": []
    },
    "kernelspec": {
      "display_name": "Python 3",
      "name": "python3"
    },
    "language_info": {
      "name": "python"
    }
  },
  "nbformat": 4,
  "nbformat_minor": 0
}