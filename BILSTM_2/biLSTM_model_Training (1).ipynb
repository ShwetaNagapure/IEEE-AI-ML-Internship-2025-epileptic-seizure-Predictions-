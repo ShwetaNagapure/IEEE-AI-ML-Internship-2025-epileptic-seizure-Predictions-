{
  "nbformat": 4,
  "nbformat_minor": 0,
  "metadata": {
    "colab": {
      "provenance": [],
      "gpuType": "T4"
    },
    "kernelspec": {
      "name": "python3",
      "display_name": "Python 3"
    },
    "language_info": {
      "name": "python"
    },
    "accelerator": "GPU"
  },
  "cells": [
    {
      "cell_type": "code",
      "execution_count": null,
      "metadata": {
        "colab": {
          "base_uri": "https://localhost:8080/"
        },
        "id": "qmO8lU_AM5mC",
        "outputId": "cee4e511-9a43-4a9a-fb2e-57ffc7cab291"
      },
      "outputs": [
        {
          "metadata": {
            "tags": null
          },
          "name": "stdout",
          "output_type": "stream",
          "text": [
            "Drive already mounted at /content/drive; to attempt to forcibly remount, call drive.mount(\"/content/drive\", force_remount=True).\n",
            "Epoch 1/30\n",
            "\u001b[1m556/556\u001b[0m \u001b[32m━━━━━━━━━━━━━━━━━━━━\u001b[0m\u001b[37m\u001b[0m \u001b[1m0s\u001b[0m 125ms/step - accuracy: 0.5048 - loss: 0.7503 - precision: 0.7416 - recall: 0.4792\n",
            "Epoch 1: val_loss improved from inf to 0.67345, saving model to /content/drive/MyDrive/BILSTM_MODEL/best_seizure_model.h5\n"
          ]
        },
        {
          "metadata": {
            "tags": null
          },
          "name": "stderr",
          "output_type": "stream",
          "text": [
            "WARNING:absl:You are saving your model as an HDF5 file via `model.save()` or `keras.saving.save_model(model)`. This file format is considered legacy. We recommend using instead the native Keras format, e.g. `model.save('my_model.keras')` or `keras.saving.save_model(model, 'my_model.keras')`. \n"
          ]
        },
        {
          "metadata": {
            "tags": null
          },
          "name": "stdout",
          "output_type": "stream",
          "text": [
            "\u001b[1m556/556\u001b[0m \u001b[32m━━━━━━━━━━━━━━━━━━━━\u001b[0m\u001b[37m\u001b[0m \u001b[1m87s\u001b[0m 143ms/step - accuracy: 0.5048 - loss: 0.7503 - precision: 0.7417 - recall: 0.4793 - val_accuracy: 0.6709 - val_loss: 0.6735 - val_precision: 0.7796 - val_recall: 0.7602\n",
            "Epoch 2/30\n",
            "\u001b[1m556/556\u001b[0m \u001b[32m━━━━━━━━━━━━━━━━━━━━\u001b[0m\u001b[37m\u001b[0m \u001b[1m0s\u001b[0m 124ms/step - accuracy: 0.6202 - loss: 0.6890 - precision: 0.8150 - recall: 0.6115\n",
            "Epoch 2: val_loss improved from 0.67345 to 0.63994, saving model to /content/drive/MyDrive/BILSTM_MODEL/best_seizure_model.h5\n"
          ]
        },
        {
          "metadata": {
            "tags": null
          },
          "name": "stderr",
          "output_type": "stream",
          "text": [
            "WARNING:absl:You are saving your model as an HDF5 file via `model.save()` or `keras.saving.save_model(model)`. This file format is considered legacy. We recommend using instead the native Keras format, e.g. `model.save('my_model.keras')` or `keras.saving.save_model(model, 'my_model.keras')`. \n"
          ]
        },
        {
          "metadata": {
            "tags": null
          },
          "name": "stdout",
          "output_type": "stream",
          "text": [
            "\u001b[1m556/556\u001b[0m \u001b[32m━━━━━━━━━━━━━━━━━━━━\u001b[0m\u001b[37m\u001b[0m \u001b[1m80s\u001b[0m 143ms/step - accuracy: 0.6203 - loss: 0.6889 - precision: 0.8150 - recall: 0.6116 - val_accuracy: 0.6520 - val_loss: 0.6399 - val_precision: 0.8519 - val_recall: 0.6286\n",
            "Epoch 3/30\n",
            "\u001b[1m556/556\u001b[0m \u001b[32m━━━━━━━━━━━━━━━━━━━━\u001b[0m\u001b[37m\u001b[0m \u001b[1m0s\u001b[0m 124ms/step - accuracy: 0.6652 - loss: 0.6161 - precision: 0.8531 - recall: 0.6465\n",
            "Epoch 3: val_loss improved from 0.63994 to 0.58753, saving model to /content/drive/MyDrive/BILSTM_MODEL/best_seizure_model.h5\n"
          ]
        },
        {
          "metadata": {
            "tags": null
          },
          "name": "stderr",
          "output_type": "stream",
          "text": [
            "WARNING:absl:You are saving your model as an HDF5 file via `model.save()` or `keras.saving.save_model(model)`. This file format is considered legacy. We recommend using instead the native Keras format, e.g. `model.save('my_model.keras')` or `keras.saving.save_model(model, 'my_model.keras')`. \n"
          ]
        },
        {
          "metadata": {
            "tags": null
          },
          "name": "stdout",
          "output_type": "stream",
          "text": [
            "\u001b[1m556/556\u001b[0m \u001b[32m━━━━━━━━━━━━━━━━━━━━\u001b[0m\u001b[37m\u001b[0m \u001b[1m78s\u001b[0m 140ms/step - accuracy: 0.6652 - loss: 0.6160 - precision: 0.8531 - recall: 0.6465 - val_accuracy: 0.7023 - val_loss: 0.5875 - val_precision: 0.8465 - val_recall: 0.7193\n",
            "Epoch 4/30\n",
            "\u001b[1m556/556\u001b[0m \u001b[32m━━━━━━━━━━━━━━━━━━━━\u001b[0m\u001b[37m\u001b[0m \u001b[1m0s\u001b[0m 124ms/step - accuracy: 0.7314 - loss: 0.5556 - precision: 0.8828 - recall: 0.7216\n",
            "Epoch 4: val_loss improved from 0.58753 to 0.58590, saving model to /content/drive/MyDrive/BILSTM_MODEL/best_seizure_model.h5\n"
          ]
        },
        {
          "metadata": {
            "tags": null
          },
          "name": "stderr",
          "output_type": "stream",
          "text": [
            "WARNING:absl:You are saving your model as an HDF5 file via `model.save()` or `keras.saving.save_model(model)`. This file format is considered legacy. We recommend using instead the native Keras format, e.g. `model.save('my_model.keras')` or `keras.saving.save_model(model, 'my_model.keras')`. \n"
          ]
        },
        {
          "metadata": {
            "tags": null
          },
          "name": "stdout",
          "output_type": "stream",
          "text": [
            "\u001b[1m556/556\u001b[0m \u001b[32m━━━━━━━━━━━━━━━━━━━━\u001b[0m\u001b[37m\u001b[0m \u001b[1m78s\u001b[0m 140ms/step - accuracy: 0.7314 - loss: 0.5556 - precision: 0.8828 - recall: 0.7216 - val_accuracy: 0.7140 - val_loss: 0.5859 - val_precision: 0.8607 - val_recall: 0.7217\n",
            "Epoch 5/30\n",
            "\u001b[1m556/556\u001b[0m \u001b[32m━━━━━━━━━━━━━━━━━━━━\u001b[0m\u001b[37m\u001b[0m \u001b[1m0s\u001b[0m 123ms/step - accuracy: 0.7767 - loss: 0.4812 - precision: 0.9053 - recall: 0.7729\n",
            "Epoch 5: val_loss improved from 0.58590 to 0.54565, saving model to /content/drive/MyDrive/BILSTM_MODEL/best_seizure_model.h5\n"
          ]
        },
        {
          "metadata": {
            "tags": null
          },
          "name": "stderr",
          "output_type": "stream",
          "text": [
            "WARNING:absl:You are saving your model as an HDF5 file via `model.save()` or `keras.saving.save_model(model)`. This file format is considered legacy. We recommend using instead the native Keras format, e.g. `model.save('my_model.keras')` or `keras.saving.save_model(model, 'my_model.keras')`. \n"
          ]
        },
        {
          "metadata": {
            "tags": null
          },
          "name": "stdout",
          "output_type": "stream",
          "text": [
            "\u001b[1m556/556\u001b[0m \u001b[32m━━━━━━━━━━━━━━━━━━━━\u001b[0m\u001b[37m\u001b[0m \u001b[1m77s\u001b[0m 139ms/step - accuracy: 0.7767 - loss: 0.4812 - precision: 0.9053 - recall: 0.7729 - val_accuracy: 0.7410 - val_loss: 0.5457 - val_precision: 0.8887 - val_recall: 0.7342\n",
            "Epoch 6/30\n",
            "\u001b[1m556/556\u001b[0m \u001b[32m━━━━━━━━━━━━━━━━━━━━\u001b[0m\u001b[37m\u001b[0m \u001b[1m0s\u001b[0m 125ms/step - accuracy: 0.8007 - loss: 0.4297 - precision: 0.9201 - recall: 0.7910\n",
            "Epoch 6: val_loss did not improve from 0.54565\n",
            "\u001b[1m556/556\u001b[0m \u001b[32m━━━━━━━━━━━━━━━━━━━━\u001b[0m\u001b[37m\u001b[0m \u001b[1m78s\u001b[0m 140ms/step - accuracy: 0.8007 - loss: 0.4297 - precision: 0.9201 - recall: 0.7910 - val_accuracy: 0.7302 - val_loss: 0.5982 - val_precision: 0.8654 - val_recall: 0.7429\n",
            "Epoch 7/30\n",
            "\u001b[1m556/556\u001b[0m \u001b[32m━━━━━━━━━━━━━━━━━━━━\u001b[0m\u001b[37m\u001b[0m \u001b[1m0s\u001b[0m 123ms/step - accuracy: 0.8177 - loss: 0.4162 - precision: 0.9320 - recall: 0.8059\n",
            "Epoch 7: val_loss improved from 0.54565 to 0.52535, saving model to /content/drive/MyDrive/BILSTM_MODEL/best_seizure_model.h5\n"
          ]
        },
        {
          "metadata": {
            "tags": null
          },
          "name": "stderr",
          "output_type": "stream",
          "text": [
            "WARNING:absl:You are saving your model as an HDF5 file via `model.save()` or `keras.saving.save_model(model)`. This file format is considered legacy. We recommend using instead the native Keras format, e.g. `model.save('my_model.keras')` or `keras.saving.save_model(model, 'my_model.keras')`. \n"
          ]
        },
        {
          "metadata": {
            "tags": null
          },
          "name": "stdout",
          "output_type": "stream",
          "text": [
            "\u001b[1m556/556\u001b[0m \u001b[32m━━━━━━━━━━━━━━━━━━━━\u001b[0m\u001b[37m\u001b[0m \u001b[1m77s\u001b[0m 138ms/step - accuracy: 0.8177 - loss: 0.4162 - precision: 0.9320 - recall: 0.8059 - val_accuracy: 0.7572 - val_loss: 0.5254 - val_precision: 0.9134 - val_recall: 0.7342\n",
            "Epoch 8/30\n",
            "\u001b[1m556/556\u001b[0m \u001b[32m━━━━━━━━━━━━━━━━━━━━\u001b[0m\u001b[37m\u001b[0m \u001b[1m0s\u001b[0m 123ms/step - accuracy: 0.8571 - loss: 0.3378 - precision: 0.9498 - recall: 0.8454\n",
            "Epoch 8: val_loss improved from 0.52535 to 0.46350, saving model to /content/drive/MyDrive/BILSTM_MODEL/best_seizure_model.h5\n"
          ]
        },
        {
          "metadata": {
            "tags": null
          },
          "name": "stderr",
          "output_type": "stream",
          "text": [
            "WARNING:absl:You are saving your model as an HDF5 file via `model.save()` or `keras.saving.save_model(model)`. This file format is considered legacy. We recommend using instead the native Keras format, e.g. `model.save('my_model.keras')` or `keras.saving.save_model(model, 'my_model.keras')`. \n"
          ]
        },
        {
          "metadata": {
            "tags": null
          },
          "name": "stdout",
          "output_type": "stream",
          "text": [
            "\u001b[1m556/556\u001b[0m \u001b[32m━━━━━━━━━━━━━━━━━━━━\u001b[0m\u001b[37m\u001b[0m \u001b[1m82s\u001b[0m 139ms/step - accuracy: 0.8571 - loss: 0.3378 - precision: 0.9498 - recall: 0.8454 - val_accuracy: 0.8076 - val_loss: 0.4635 - val_precision: 0.8966 - val_recall: 0.8298\n",
            "Epoch 9/30\n",
            "\u001b[1m556/556\u001b[0m \u001b[32m━━━━━━━━━━━━━━━━━━━━\u001b[0m\u001b[37m\u001b[0m \u001b[1m0s\u001b[0m 123ms/step - accuracy: 0.9005 - loss: 0.2577 - precision: 0.9637 - recall: 0.8952\n",
            "Epoch 9: val_loss improved from 0.46350 to 0.44914, saving model to /content/drive/MyDrive/BILSTM_MODEL/best_seizure_model.h5\n"
          ]
        },
        {
          "metadata": {
            "tags": null
          },
          "name": "stderr",
          "output_type": "stream",
          "text": [
            "WARNING:absl:You are saving your model as an HDF5 file via `model.save()` or `keras.saving.save_model(model)`. This file format is considered legacy. We recommend using instead the native Keras format, e.g. `model.save('my_model.keras')` or `keras.saving.save_model(model, 'my_model.keras')`. \n"
          ]
        },
        {
          "metadata": {
            "tags": null
          },
          "name": "stdout",
          "output_type": "stream",
          "text": [
            "\u001b[1m556/556\u001b[0m \u001b[32m━━━━━━━━━━━━━━━━━━━━\u001b[0m\u001b[37m\u001b[0m \u001b[1m77s\u001b[0m 139ms/step - accuracy: 0.9005 - loss: 0.2578 - precision: 0.9637 - recall: 0.8952 - val_accuracy: 0.8165 - val_loss: 0.4491 - val_precision: 0.9088 - val_recall: 0.8298\n",
            "Epoch 10/30\n",
            "\u001b[1m556/556\u001b[0m \u001b[32m━━━━━━━━━━━━━━━━━━━━\u001b[0m\u001b[37m\u001b[0m \u001b[1m0s\u001b[0m 123ms/step - accuracy: 0.8945 - loss: 0.2696 - precision: 0.9647 - recall: 0.8869\n",
            "Epoch 10: val_loss improved from 0.44914 to 0.42269, saving model to /content/drive/MyDrive/BILSTM_MODEL/best_seizure_model.h5\n"
          ]
        },
        {
          "metadata": {
            "tags": null
          },
          "name": "stderr",
          "output_type": "stream",
          "text": [
            "WARNING:absl:You are saving your model as an HDF5 file via `model.save()` or `keras.saving.save_model(model)`. This file format is considered legacy. We recommend using instead the native Keras format, e.g. `model.save('my_model.keras')` or `keras.saving.save_model(model, 'my_model.keras')`. \n"
          ]
        },
        {
          "metadata": {
            "tags": null
          },
          "name": "stdout",
          "output_type": "stream",
          "text": [
            "\u001b[1m556/556\u001b[0m \u001b[32m━━━━━━━━━━━━━━━━━━━━\u001b[0m\u001b[37m\u001b[0m \u001b[1m77s\u001b[0m 138ms/step - accuracy: 0.8945 - loss: 0.2696 - precision: 0.9647 - recall: 0.8869 - val_accuracy: 0.8462 - val_loss: 0.4227 - val_precision: 0.9054 - val_recall: 0.8795\n",
            "Epoch 11/30\n",
            "\u001b[1m556/556\u001b[0m \u001b[32m━━━━━━━━━━━━━━━━━━━━\u001b[0m\u001b[37m\u001b[0m \u001b[1m0s\u001b[0m 123ms/step - accuracy: 0.9159 - loss: 0.2335 - precision: 0.9650 - recall: 0.9170\n",
            "Epoch 11: val_loss improved from 0.42269 to 0.41137, saving model to /content/drive/MyDrive/BILSTM_MODEL/best_seizure_model.h5\n"
          ]
        },
        {
          "metadata": {
            "tags": null
          },
          "name": "stderr",
          "output_type": "stream",
          "text": [
            "WARNING:absl:You are saving your model as an HDF5 file via `model.save()` or `keras.saving.save_model(model)`. This file format is considered legacy. We recommend using instead the native Keras format, e.g. `model.save('my_model.keras')` or `keras.saving.save_model(model, 'my_model.keras')`. \n"
          ]
        },
        {
          "output_type": "stream",
          "name": "stdout",
          "text": [
            "\u001b[1m556/556\u001b[0m \u001b[32m━━━━━━━━━━━━━━━━━━━━\u001b[0m\u001b[37m\u001b[0m \u001b[1m83s\u001b[0m 139ms/step - accuracy: 0.9158 - loss: 0.2336 - precision: 0.9650 - recall: 0.9170 - val_accuracy: 0.8516 - val_loss: 0.4114 - val_precision: 0.8980 - val_recall: 0.8969\n",
            "Epoch 12/30\n",
            "\u001b[1m556/556\u001b[0m \u001b[32m━━━━━━━━━━━━━━━━━━━━\u001b[0m\u001b[37m\u001b[0m \u001b[1m0s\u001b[0m 123ms/step - accuracy: 0.9169 - loss: 0.2325 - precision: 0.9687 - recall: 0.9145\n",
            "Epoch 12: val_loss did not improve from 0.41137\n",
            "\u001b[1m556/556\u001b[0m \u001b[32m━━━━━━━━━━━━━━━━━━━━\u001b[0m\u001b[37m\u001b[0m \u001b[1m76s\u001b[0m 138ms/step - accuracy: 0.9169 - loss: 0.2325 - precision: 0.9687 - recall: 0.9145 - val_accuracy: 0.8138 - val_loss: 0.5070 - val_precision: 0.9153 - val_recall: 0.8186\n",
            "Epoch 13/30\n",
            "\u001b[1m556/556\u001b[0m \u001b[32m━━━━━━━━━━━━━━━━━━━━\u001b[0m\u001b[37m\u001b[0m \u001b[1m0s\u001b[0m 124ms/step - accuracy: 0.9293 - loss: 0.2030 - precision: 0.9736 - recall: 0.9268\n",
            "Epoch 13: val_loss did not improve from 0.41137\n",
            "\u001b[1m556/556\u001b[0m \u001b[32m━━━━━━━━━━━━━━━━━━━━\u001b[0m\u001b[37m\u001b[0m \u001b[1m77s\u001b[0m 139ms/step - accuracy: 0.9293 - loss: 0.2030 - precision: 0.9736 - recall: 0.9268 - val_accuracy: 0.8615 - val_loss: 0.4194 - val_precision: 0.8763 - val_recall: 0.9416\n",
            "Epoch 14/30\n",
            "\u001b[1m556/556\u001b[0m \u001b[32m━━━━━━━━━━━━━━━━━━━━\u001b[0m\u001b[37m\u001b[0m \u001b[1m0s\u001b[0m 124ms/step - accuracy: 0.9425 - loss: 0.1684 - precision: 0.9810 - recall: 0.9389\n",
            "Epoch 14: val_loss did not improve from 0.41137\n",
            "\u001b[1m556/556\u001b[0m \u001b[32m━━━━━━━━━━━━━━━━━━━━\u001b[0m\u001b[37m\u001b[0m \u001b[1m79s\u001b[0m 142ms/step - accuracy: 0.9425 - loss: 0.1685 - precision: 0.9810 - recall: 0.9389 - val_accuracy: 0.8498 - val_loss: 0.4455 - val_precision: 0.9208 - val_recall: 0.8671\n",
            "Epoch 15/30\n",
            "\u001b[1m556/556\u001b[0m \u001b[32m━━━━━━━━━━━━━━━━━━━━\u001b[0m\u001b[37m\u001b[0m \u001b[1m0s\u001b[0m 123ms/step - accuracy: 0.9451 - loss: 0.1572 - precision: 0.9829 - recall: 0.9401\n",
            "Epoch 15: val_loss did not improve from 0.41137\n",
            "\u001b[1m556/556\u001b[0m \u001b[32m━━━━━━━━━━━━━━━━━━━━\u001b[0m\u001b[37m\u001b[0m \u001b[1m76s\u001b[0m 137ms/step - accuracy: 0.9451 - loss: 0.1572 - precision: 0.9829 - recall: 0.9401 - val_accuracy: 0.8750 - val_loss: 0.4482 - val_precision: 0.9041 - val_recall: 0.9255\n",
            "Epoch 16/30\n",
            "\u001b[1m556/556\u001b[0m \u001b[32m━━━━━━━━━━━━━━━━━━━━\u001b[0m\u001b[37m\u001b[0m \u001b[1m0s\u001b[0m 123ms/step - accuracy: 0.9437 - loss: 0.1500 - precision: 0.9817 - recall: 0.9381\n",
            "Epoch 16: val_loss did not improve from 0.41137\n",
            "\u001b[1m556/556\u001b[0m \u001b[32m━━━━━━━━━━━━━━━━━━━━\u001b[0m\u001b[37m\u001b[0m \u001b[1m76s\u001b[0m 137ms/step - accuracy: 0.9437 - loss: 0.1500 - precision: 0.9817 - recall: 0.9381 - val_accuracy: 0.8633 - val_loss: 0.4223 - val_precision: 0.9191 - val_recall: 0.8894\n",
            "\u001b[1m174/174\u001b[0m \u001b[32m━━━━━━━━━━━━━━━━━━━━\u001b[0m\u001b[37m\u001b[0m \u001b[1m11s\u001b[0m 61ms/step - accuracy: 0.8325 - loss: 0.4420 - precision: 0.8948 - recall: 0.8733\n",
            "Test Accuracy: 0.8374\n",
            "Test Precision: 0.8939\n",
            "Test Recall: 0.8797\n",
            "\u001b[1m174/174\u001b[0m \u001b[32m━━━━━━━━━━━━━━━━━━━━\u001b[0m\u001b[37m\u001b[0m \u001b[1m11s\u001b[0m 60ms/step\n"
          ]
        }
      ],
      "source": [
        "# --- Session 1: Training & Saving ---\n",
        "\n",
        "# Step 1: Mount Drive\n",
        "from google.colab import drive\n",
        "drive.mount('/content/drive')\n",
        "\n",
        "# Step 2: Install packages\n",
        "!pip install mne tensorflow seaborn --quiet\n",
        "\n",
        "# Step 3: Imports and setup\n",
        "import os\n",
        "import numpy as np\n",
        "import math\n",
        "import tensorflow as tf\n",
        "from tensorflow.keras.models import Sequential\n",
        "from tensorflow.keras.layers import Bidirectional, LSTM, Dense, Dropout\n",
        "from tensorflow.keras.regularizers import l2\n",
        "from tensorflow.keras.utils import Sequence\n",
        "from sklearn.model_selection import train_test_split\n",
        "from sklearn.utils.class_weight import compute_class_weight\n",
        "from sklearn.metrics import confusion_matrix\n",
        "import mne\n",
        "import matplotlib.pyplot as plt\n",
        "import seaborn as sns\n",
        "import warnings\n",
        "warnings.filterwarnings(\"ignore\")\n",
        "\n",
        "# Step 4: Constants and paths\n",
        "BASE_DATA_PATH = '/content/drive/MyDrive/BILSTM_MODEL/edf_files/'\n",
        "ANNOTATION_BASE_PATH = '/content/drive/MyDrive/BILSTM_MODEL/textfile/'\n",
        "\n",
        "CHUNK_SIZE_SECONDS = 5\n",
        "SAMPLING_RATE = 256\n",
        "\n",
        "# Step 5: Helper functions (exact from your code)\n",
        "def time_str_to_seconds(t_str):\n",
        "    h, m, s = map(int, t_str.split('.'))\n",
        "    return h * 3600 + m * 60 + s\n",
        "\n",
        "def load_edf(file_path):\n",
        "    raw = mne.io.read_raw_edf(file_path, preload=True, verbose=False)\n",
        "    raw.resample(SAMPLING_RATE)\n",
        "    return raw\n",
        "\n",
        "def load_seizure_times(annotation_path):\n",
        "    times = []\n",
        "    reg_start = None\n",
        "    with open(annotation_path, 'r') as f:\n",
        "        for line in f:\n",
        "            if 'Registration start time:' in line:\n",
        "                reg_start = time_str_to_seconds(line.strip().split(': ')[1])\n",
        "            elif 'Seizure start time:' in line and reg_start is not None:\n",
        "                seizure_time = time_str_to_seconds(line.strip().split(': ')[1])\n",
        "                times.append(seizure_time - reg_start)\n",
        "    return times\n",
        "\n",
        "def segment_eeg(raw, start, end):\n",
        "    sfreq = int(raw.info['sfreq'])\n",
        "    data = raw.get_data()\n",
        "    chunks = []\n",
        "    for t in range(start, end - CHUNK_SIZE_SECONDS + 1, CHUNK_SIZE_SECONDS):\n",
        "        s, e = t * sfreq, (t + CHUNK_SIZE_SECONDS) * sfreq\n",
        "        chunk = data[:, s:e]\n",
        "        with np.errstate(divide='ignore', invalid='ignore'):\n",
        "            norm = (chunk - np.mean(chunk, axis=1, keepdims=True)) / np.std(chunk, axis=1, keepdims=True)\n",
        "            norm = np.nan_to_num(norm)\n",
        "        chunks.append(norm.T)\n",
        "    return chunks\n",
        "\n",
        "def create_dataset_from_file(file_name):\n",
        "    raw = load_edf(os.path.join(BASE_DATA_PATH, file_name))\n",
        "    annotation_file = 'Seizures-list-' + file_name.split('-')[0] + '.txt'\n",
        "    seizure_times = load_seizure_times(os.path.join(ANNOTATION_BASE_PATH, annotation_file))\n",
        "    total_sec = int(raw.n_times / raw.info['sfreq'])\n",
        "    preictal, interictal = [], []\n",
        "    for sz in seizure_times:\n",
        "        preictal.extend(segment_eeg(raw, max(0, sz - 1800), sz))\n",
        "        if sz + 1200 < total_sec:\n",
        "            interictal.extend(segment_eeg(raw, sz + 600, sz + 1200))\n",
        "    return preictal, interictal\n",
        "\n",
        "# Step 6: Load dataset\n",
        "X, Y = [], []\n",
        "edf_files = [f for f in os.listdir(BASE_DATA_PATH) if f.endswith('.edf')]\n",
        "for f in edf_files:\n",
        "    pre, inter = create_dataset_from_file(f)\n",
        "    X.extend(pre)\n",
        "    Y.extend([1]*len(pre))\n",
        "    X.extend(inter)\n",
        "    Y.extend([0]*len(inter))\n",
        "\n",
        "X = np.array(X)\n",
        "Y = np.array(Y)\n",
        "\n",
        "# Step 7: Split data\n",
        "X_trainval, X_test, Y_trainval, Y_test = train_test_split(X, Y, test_size=0.2, stratify=Y, random_state=42)\n",
        "X_train, X_val, Y_train, Y_val = train_test_split(X_trainval, Y_trainval, test_size=0.2, stratify=Y_trainval, random_state=42)\n",
        "\n",
        "# Step 8: Class weights\n",
        "class_weights_values = compute_class_weight(class_weight='balanced', classes=np.unique(Y_train), y=Y_train)\n",
        "class_weight_dict = dict(enumerate(class_weights_values))\n",
        "\n",
        "# Step 9: Data generator\n",
        "class EEGDataGenerator(Sequence):\n",
        "    def __init__(self, x, y, batch_size=8):\n",
        "        self.x = x\n",
        "        self.y = y\n",
        "        self.batch_size = batch_size\n",
        "        self.indices = np.arange(len(x))\n",
        "        np.random.shuffle(self.indices)\n",
        "\n",
        "    def __len__(self):\n",
        "        return math.ceil(len(self.x) / self.batch_size)\n",
        "\n",
        "    def __getitem__(self, idx):\n",
        "        batch_idx = self.indices[idx*self.batch_size:(idx+1)*self.batch_size]\n",
        "        return np.array([self.x[i] for i in batch_idx]), np.array([self.y[i] for i in batch_idx])\n",
        "\n",
        "    def on_epoch_end(self):\n",
        "        np.random.shuffle(self.indices)\n",
        "\n",
        "train_generator = EEGDataGenerator(X_train, Y_train)\n",
        "val_generator = EEGDataGenerator(X_val, Y_val)\n",
        "test_generator = EEGDataGenerator(X_test, Y_test)\n",
        "\n",
        "# Step 10: Build model\n",
        "timesteps, channels = X.shape[1], X.shape[2]\n",
        "\n",
        "model = Sequential([\n",
        "    Bidirectional(LSTM(64, return_sequences=True), input_shape=(timesteps, channels)),\n",
        "    Dropout(0.5),\n",
        "    Bidirectional(LSTM(32)),\n",
        "    Dropout(0.5),\n",
        "    Dense(64, activation='relu', kernel_regularizer=l2(0.001)),\n",
        "    Dense(1, activation='sigmoid')\n",
        "])\n",
        "\n",
        "model.compile(optimizer='adam', loss='binary_crossentropy', metrics=[\n",
        "    'accuracy',\n",
        "    tf.keras.metrics.Precision(name='precision'),\n",
        "    tf.keras.metrics.Recall(name='recall')\n",
        "])\n",
        "\n",
        "# Step 11: Train model\n",
        "checkpoint_cb = tf.keras.callbacks.ModelCheckpoint(\n",
        "    '/content/drive/MyDrive/BILSTM_MODEL/best_seizure_model.h5',\n",
        "    monitor='val_loss',\n",
        "    save_best_only=True,\n",
        "    verbose=1\n",
        ")\n",
        "\n",
        "history = model.fit(\n",
        "    train_generator,\n",
        "    validation_data=val_generator,\n",
        "    epochs=30,\n",
        "    class_weight=class_weight_dict,\n",
        "    callbacks=[\n",
        "        tf.keras.callbacks.EarlyStopping(patience=5, monitor='val_loss', restore_best_weights=True),\n",
        "        checkpoint_cb\n",
        "    ]\n",
        ")\n",
        "\n",
        "# Step 12: Evaluate model and get predictions\n",
        "results = model.evaluate(test_generator)\n",
        "print(f\"Test Accuracy: {results[1]:.4f}\")\n",
        "print(f\"Test Precision: {results[2]:.4f}\")\n",
        "print(f\"Test Recall: {results[3]:.4f}\")\n",
        "\n",
        "y_pred = (model.predict(test_generator) > 0.5).astype(int).flatten()\n",
        "y_true = np.concatenate([y for _, y in test_generator])\n",
        "\n",
        "# Step 13: Save model, predictions and history\n",
        "model.save('/content/drive/MyDrive/BILSTM_MODEL/final_seizure_model.h5')\n",
        "\n",
        "import pickle\n",
        "with open('/content/drive/MyDrive/BILSTM_MODEL/history.pkl', 'wb') as f:\n",
        "    pickle.dump(history.history, f)\n",
        "\n",
        "np.save('/content/drive/MyDrive/BILSTM_MODEL/y_true.npy', y_true)\n",
        "np.save('/content/drive/MyDrive/BILSTM_MODEL/y_pred.npy', y_pred)\n",
        "\n",
        "print(\"✅ Model, history, and predictions saved successfully!\")\n"
      ]
    },
    {
      "cell_type": "code",
      "source": [
        "# ✅ Save training history to Drive\n",
        "import pickle\n",
        "with open('/content/drive/MyDrive/EEG_Siena_Seizure_Data/training_history.pkl', 'wb') as f:\n",
        "    pickle.dump(history.history, f)\n",
        "\n",
        "print(\"✅ Training history saved!\")\n"
      ],
      "metadata": {
        "colab": {
          "base_uri": "https://localhost:8080/",
          "height": 211
        },
        "id": "adU4HWyfgvaq",
        "outputId": "69f3b2ea-89b8-41b3-ee48-1ea8bf0dcdba"
      },
      "execution_count": null,
      "outputs": [
        {
          "output_type": "error",
          "ename": "FileNotFoundError",
          "evalue": "[Errno 2] No such file or directory: '/content/drive/MyDrive/EEG_Siena_Seizure_Data/training_history.pkl'",
          "traceback": [
            "\u001b[0;31m---------------------------------------------------------------------------\u001b[0m",
            "\u001b[0;31mFileNotFoundError\u001b[0m                         Traceback (most recent call last)",
            "\u001b[0;32m/tmp/ipython-input-1-436539492.py\u001b[0m in \u001b[0;36m<cell line: 0>\u001b[0;34m()\u001b[0m\n\u001b[1;32m      1\u001b[0m \u001b[0;31m# ✅ Save training history to Drive\u001b[0m\u001b[0;34m\u001b[0m\u001b[0;34m\u001b[0m\u001b[0m\n\u001b[1;32m      2\u001b[0m \u001b[0;32mimport\u001b[0m \u001b[0mpickle\u001b[0m\u001b[0;34m\u001b[0m\u001b[0;34m\u001b[0m\u001b[0m\n\u001b[0;32m----> 3\u001b[0;31m \u001b[0;32mwith\u001b[0m \u001b[0mopen\u001b[0m\u001b[0;34m(\u001b[0m\u001b[0;34m'/content/drive/MyDrive/EEG_Siena_Seizure_Data/training_history.pkl'\u001b[0m\u001b[0;34m,\u001b[0m \u001b[0;34m'wb'\u001b[0m\u001b[0;34m)\u001b[0m \u001b[0;32mas\u001b[0m \u001b[0mf\u001b[0m\u001b[0;34m:\u001b[0m\u001b[0;34m\u001b[0m\u001b[0;34m\u001b[0m\u001b[0m\n\u001b[0m\u001b[1;32m      4\u001b[0m     \u001b[0mpickle\u001b[0m\u001b[0;34m.\u001b[0m\u001b[0mdump\u001b[0m\u001b[0;34m(\u001b[0m\u001b[0mhistory\u001b[0m\u001b[0;34m.\u001b[0m\u001b[0mhistory\u001b[0m\u001b[0;34m,\u001b[0m \u001b[0mf\u001b[0m\u001b[0;34m)\u001b[0m\u001b[0;34m\u001b[0m\u001b[0;34m\u001b[0m\u001b[0m\n\u001b[1;32m      5\u001b[0m \u001b[0;34m\u001b[0m\u001b[0m\n",
            "\u001b[0;31mFileNotFoundError\u001b[0m: [Errno 2] No such file or directory: '/content/drive/MyDrive/EEG_Siena_Seizure_Data/training_history.pkl'"
          ]
        }
      ]
    }
  ]
}